{
 "cells": [
  {
   "cell_type": "markdown",
   "id": "d6e9094a",
   "metadata": {},
   "source": [
    "# Song Recommendation System with Surprise\n",
    "#### author: Anna Dąbkowska"
   ]
  },
  {
   "cell_type": "markdown",
   "id": "b6feaff4",
   "metadata": {},
   "source": [
    "### Description:\n",
    "* User-based collaborative filtering approach\n",
    "* data from Yahoo! Webscope http://webscope.sandbox.yahoo.com (R2 - Yahoo! Music User Ratings of Songs with Artist, Album, and Genre Meta Information, v. 1.0)\n",
    "\n",
    "#### Project includes:\n",
    "__1. Data preprocessing__\n",
    "<br>__2. Model training (SVD and kNN Baseline) and parameter tuning__\n",
    "<br>__3. Model performance visualization__\n",
    "<br>__4. Song recommender__\n",
    "<br>__5. Operations on similiar users (SVD) and neighbours (kNN)__\n",
    "<br>__6. Music genres graph__"
   ]
  },
  {
   "cell_type": "code",
   "execution_count": 1,
   "id": "1bea797a",
   "metadata": {},
   "outputs": [],
   "source": [
    "import pandas as pd\n",
    "import numpy as np\n",
    "\n",
    "import seaborn as sns\n",
    "import matplotlib.pyplot as plt\n",
    "from pyvis.network import Network\n",
    "\n",
    "from surprise import dataset, Dataset, Reader, KNNBaseline, SVD, accuracy\n",
    "from surprise.model_selection import cross_validate, GridSearchCV\n",
    "\n",
    "from scipy.spatial import distance"
   ]
  },
  {
   "cell_type": "markdown",
   "id": "b992e230",
   "metadata": {},
   "source": [
    "## I. Data preprocessing"
   ]
  },
  {
   "cell_type": "markdown",
   "id": "9c642559",
   "metadata": {},
   "source": [
    "#### 1. Loading data (train, test, songs, genres)\n",
    "*Train data*"
   ]
  },
  {
   "cell_type": "code",
   "execution_count": 2,
   "id": "bd182163",
   "metadata": {},
   "outputs": [
    {
     "data": {
      "text/html": [
       "<div>\n",
       "<style scoped>\n",
       "    .dataframe tbody tr th:only-of-type {\n",
       "        vertical-align: middle;\n",
       "    }\n",
       "\n",
       "    .dataframe tbody tr th {\n",
       "        vertical-align: top;\n",
       "    }\n",
       "\n",
       "    .dataframe thead th {\n",
       "        text-align: right;\n",
       "    }\n",
       "</style>\n",
       "<table border=\"1\" class=\"dataframe\">\n",
       "  <thead>\n",
       "    <tr style=\"text-align: right;\">\n",
       "      <th></th>\n",
       "      <th>user_id</th>\n",
       "      <th>song_id</th>\n",
       "      <th>rating</th>\n",
       "    </tr>\n",
       "  </thead>\n",
       "  <tbody>\n",
       "    <tr>\n",
       "      <th>0</th>\n",
       "      <td>0</td>\n",
       "      <td>166</td>\n",
       "      <td>5</td>\n",
       "    </tr>\n",
       "    <tr>\n",
       "      <th>1</th>\n",
       "      <td>0</td>\n",
       "      <td>2245</td>\n",
       "      <td>4</td>\n",
       "    </tr>\n",
       "    <tr>\n",
       "      <th>2</th>\n",
       "      <td>0</td>\n",
       "      <td>3637</td>\n",
       "      <td>4</td>\n",
       "    </tr>\n",
       "  </tbody>\n",
       "</table>\n",
       "</div>"
      ],
      "text/plain": [
       "   user_id  song_id  rating\n",
       "0        0      166       5\n",
       "1        0     2245       4\n",
       "2        0     3637       4"
      ]
     },
     "execution_count": 2,
     "metadata": {},
     "output_type": "execute_result"
    }
   ],
   "source": [
    "data=pd.read_csv('train_0.txt',sep='\\t',header=None)\n",
    "data.columns=['user_id','song_id','rating']\n",
    "data.head(3)"
   ]
  },
  {
   "cell_type": "code",
   "execution_count": 3,
   "id": "0afce1a7",
   "metadata": {},
   "outputs": [
    {
     "name": "stdout",
     "output_type": "stream",
     "text": [
      "There are 200000 users and 136736 songs in the dataset.\n"
     ]
    }
   ],
   "source": [
    "print('There are',data['user_id'].nunique(),'users and',data['song_id'].nunique(),'songs in the dataset.')"
   ]
  },
  {
   "cell_type": "markdown",
   "id": "b0953632",
   "metadata": {},
   "source": [
    "*Test data*"
   ]
  },
  {
   "cell_type": "code",
   "execution_count": 4,
   "id": "152352fd",
   "metadata": {},
   "outputs": [
    {
     "data": {
      "text/html": [
       "<div>\n",
       "<style scoped>\n",
       "    .dataframe tbody tr th:only-of-type {\n",
       "        vertical-align: middle;\n",
       "    }\n",
       "\n",
       "    .dataframe tbody tr th {\n",
       "        vertical-align: top;\n",
       "    }\n",
       "\n",
       "    .dataframe thead th {\n",
       "        text-align: right;\n",
       "    }\n",
       "</style>\n",
       "<table border=\"1\" class=\"dataframe\">\n",
       "  <thead>\n",
       "    <tr style=\"text-align: right;\">\n",
       "      <th></th>\n",
       "      <th>user_id</th>\n",
       "      <th>song_id</th>\n",
       "      <th>rating</th>\n",
       "    </tr>\n",
       "  </thead>\n",
       "  <tbody>\n",
       "    <tr>\n",
       "      <th>0</th>\n",
       "      <td>0</td>\n",
       "      <td>7171</td>\n",
       "      <td>5</td>\n",
       "    </tr>\n",
       "    <tr>\n",
       "      <th>1</th>\n",
       "      <td>0</td>\n",
       "      <td>8637</td>\n",
       "      <td>4</td>\n",
       "    </tr>\n",
       "    <tr>\n",
       "      <th>2</th>\n",
       "      <td>0</td>\n",
       "      <td>21966</td>\n",
       "      <td>4</td>\n",
       "    </tr>\n",
       "  </tbody>\n",
       "</table>\n",
       "</div>"
      ],
      "text/plain": [
       "   user_id  song_id  rating\n",
       "0        0     7171       5\n",
       "1        0     8637       4\n",
       "2        0    21966       4"
      ]
     },
     "execution_count": 4,
     "metadata": {},
     "output_type": "execute_result"
    }
   ],
   "source": [
    "data_test=pd.read_csv('test_0.txt',sep='\\t',header=None)\n",
    "data_test.columns=['user_id','song_id','rating']\n",
    "data_test.head(3)"
   ]
  },
  {
   "cell_type": "code",
   "execution_count": 5,
   "id": "920eaa0b",
   "metadata": {},
   "outputs": [
    {
     "data": {
      "text/html": [
       "<div>\n",
       "<style scoped>\n",
       "    .dataframe tbody tr th:only-of-type {\n",
       "        vertical-align: middle;\n",
       "    }\n",
       "\n",
       "    .dataframe tbody tr th {\n",
       "        vertical-align: top;\n",
       "    }\n",
       "\n",
       "    .dataframe thead th {\n",
       "        text-align: right;\n",
       "    }\n",
       "</style>\n",
       "<table border=\"1\" class=\"dataframe\">\n",
       "  <thead>\n",
       "    <tr style=\"text-align: right;\">\n",
       "      <th></th>\n",
       "      <th>song_id</th>\n",
       "      <th>rating</th>\n",
       "    </tr>\n",
       "    <tr>\n",
       "      <th>user_id</th>\n",
       "      <th></th>\n",
       "      <th></th>\n",
       "    </tr>\n",
       "  </thead>\n",
       "  <tbody>\n",
       "    <tr>\n",
       "      <th>0</th>\n",
       "      <td>10</td>\n",
       "      <td>10</td>\n",
       "    </tr>\n",
       "    <tr>\n",
       "      <th>1</th>\n",
       "      <td>10</td>\n",
       "      <td>10</td>\n",
       "    </tr>\n",
       "    <tr>\n",
       "      <th>2</th>\n",
       "      <td>10</td>\n",
       "      <td>10</td>\n",
       "    </tr>\n",
       "    <tr>\n",
       "      <th>3</th>\n",
       "      <td>10</td>\n",
       "      <td>10</td>\n",
       "    </tr>\n",
       "    <tr>\n",
       "      <th>4</th>\n",
       "      <td>10</td>\n",
       "      <td>10</td>\n",
       "    </tr>\n",
       "    <tr>\n",
       "      <th>...</th>\n",
       "      <td>...</td>\n",
       "      <td>...</td>\n",
       "    </tr>\n",
       "    <tr>\n",
       "      <th>199995</th>\n",
       "      <td>10</td>\n",
       "      <td>10</td>\n",
       "    </tr>\n",
       "    <tr>\n",
       "      <th>199996</th>\n",
       "      <td>10</td>\n",
       "      <td>10</td>\n",
       "    </tr>\n",
       "    <tr>\n",
       "      <th>199997</th>\n",
       "      <td>10</td>\n",
       "      <td>10</td>\n",
       "    </tr>\n",
       "    <tr>\n",
       "      <th>199998</th>\n",
       "      <td>10</td>\n",
       "      <td>10</td>\n",
       "    </tr>\n",
       "    <tr>\n",
       "      <th>199999</th>\n",
       "      <td>10</td>\n",
       "      <td>10</td>\n",
       "    </tr>\n",
       "  </tbody>\n",
       "</table>\n",
       "<p>200000 rows × 2 columns</p>\n",
       "</div>"
      ],
      "text/plain": [
       "         song_id  rating\n",
       "user_id                 \n",
       "0             10      10\n",
       "1             10      10\n",
       "2             10      10\n",
       "3             10      10\n",
       "4             10      10\n",
       "...          ...     ...\n",
       "199995        10      10\n",
       "199996        10      10\n",
       "199997        10      10\n",
       "199998        10      10\n",
       "199999        10      10\n",
       "\n",
       "[200000 rows x 2 columns]"
      ]
     },
     "execution_count": 5,
     "metadata": {},
     "output_type": "execute_result"
    }
   ],
   "source": [
    "data_test.groupby('user_id').count()"
   ]
  },
  {
   "cell_type": "markdown",
   "id": "8de638e4",
   "metadata": {},
   "source": [
    "*Genres*"
   ]
  },
  {
   "cell_type": "code",
   "execution_count": 6,
   "id": "808da637",
   "metadata": {},
   "outputs": [
    {
     "data": {
      "text/html": [
       "<div>\n",
       "<style scoped>\n",
       "    .dataframe tbody tr th:only-of-type {\n",
       "        vertical-align: middle;\n",
       "    }\n",
       "\n",
       "    .dataframe tbody tr th {\n",
       "        vertical-align: top;\n",
       "    }\n",
       "\n",
       "    .dataframe thead th {\n",
       "        text-align: right;\n",
       "    }\n",
       "</style>\n",
       "<table border=\"1\" class=\"dataframe\">\n",
       "  <thead>\n",
       "    <tr style=\"text-align: right;\">\n",
       "      <th></th>\n",
       "      <th>parent_genre_id</th>\n",
       "      <th>level</th>\n",
       "      <th>genre_name</th>\n",
       "    </tr>\n",
       "    <tr>\n",
       "      <th>genre_id</th>\n",
       "      <th></th>\n",
       "      <th></th>\n",
       "      <th></th>\n",
       "    </tr>\n",
       "  </thead>\n",
       "  <tbody>\n",
       "    <tr>\n",
       "      <th>0</th>\n",
       "      <td>0</td>\n",
       "      <td>1</td>\n",
       "      <td>Unknown</td>\n",
       "    </tr>\n",
       "    <tr>\n",
       "      <th>1</th>\n",
       "      <td>1</td>\n",
       "      <td>1</td>\n",
       "      <td>Electronic/Dance</td>\n",
       "    </tr>\n",
       "    <tr>\n",
       "      <th>2</th>\n",
       "      <td>1</td>\n",
       "      <td>2</td>\n",
       "      <td>Ambient</td>\n",
       "    </tr>\n",
       "    <tr>\n",
       "      <th>3</th>\n",
       "      <td>2</td>\n",
       "      <td>3</td>\n",
       "      <td>Ambient Dub</td>\n",
       "    </tr>\n",
       "    <tr>\n",
       "      <th>4</th>\n",
       "      <td>2</td>\n",
       "      <td>3</td>\n",
       "      <td>Ambient Tech</td>\n",
       "    </tr>\n",
       "  </tbody>\n",
       "</table>\n",
       "</div>"
      ],
      "text/plain": [
       "          parent_genre_id  level        genre_name\n",
       "genre_id                                          \n",
       "0                       0      1           Unknown\n",
       "1                       1      1  Electronic/Dance\n",
       "2                       1      2           Ambient\n",
       "3                       2      3       Ambient Dub\n",
       "4                       2      3      Ambient Tech"
      ]
     },
     "execution_count": 6,
     "metadata": {},
     "output_type": "execute_result"
    }
   ],
   "source": [
    "data_genres=pd.read_csv('genre-hierarchy.txt',sep='\\t',header=None)\n",
    "data_genres.columns=['genre_id','parent_genre_id','level','genre_name']\n",
    "data_genres.set_index('genre_id',inplace=True)\n",
    "data_genres.head()"
   ]
  },
  {
   "cell_type": "code",
   "execution_count": 7,
   "id": "12cd07f7",
   "metadata": {},
   "outputs": [
    {
     "name": "stdout",
     "output_type": "stream",
     "text": [
      "Highest level in hierarchy tree (root):  1\n",
      "Lowest level in hierarchy tree:  3\n"
     ]
    }
   ],
   "source": [
    "print('Highest level in hierarchy tree (root): ',min(data_genres['level']))\n",
    "print('Lowest level in hierarchy tree: ',max(data_genres['level']))"
   ]
  },
  {
   "cell_type": "markdown",
   "id": "bc5f8b98",
   "metadata": {},
   "source": [
    "*Songs*"
   ]
  },
  {
   "cell_type": "code",
   "execution_count": 8,
   "id": "971b8f2f",
   "metadata": {},
   "outputs": [
    {
     "data": {
      "text/html": [
       "<div>\n",
       "<style scoped>\n",
       "    .dataframe tbody tr th:only-of-type {\n",
       "        vertical-align: middle;\n",
       "    }\n",
       "\n",
       "    .dataframe tbody tr th {\n",
       "        vertical-align: top;\n",
       "    }\n",
       "\n",
       "    .dataframe thead th {\n",
       "        text-align: right;\n",
       "    }\n",
       "</style>\n",
       "<table border=\"1\" class=\"dataframe\">\n",
       "  <thead>\n",
       "    <tr style=\"text-align: right;\">\n",
       "      <th></th>\n",
       "      <th>album_id</th>\n",
       "      <th>artist_id</th>\n",
       "      <th>genre_id</th>\n",
       "    </tr>\n",
       "    <tr>\n",
       "      <th>song_id</th>\n",
       "      <th></th>\n",
       "      <th></th>\n",
       "      <th></th>\n",
       "    </tr>\n",
       "  </thead>\n",
       "  <tbody>\n",
       "    <tr>\n",
       "      <th>0</th>\n",
       "      <td>12070</td>\n",
       "      <td>8490</td>\n",
       "      <td>0</td>\n",
       "    </tr>\n",
       "    <tr>\n",
       "      <th>1</th>\n",
       "      <td>19512</td>\n",
       "      <td>7975</td>\n",
       "      <td>134</td>\n",
       "    </tr>\n",
       "    <tr>\n",
       "      <th>2</th>\n",
       "      <td>18953</td>\n",
       "      <td>3492</td>\n",
       "      <td>0</td>\n",
       "    </tr>\n",
       "  </tbody>\n",
       "</table>\n",
       "</div>"
      ],
      "text/plain": [
       "         album_id  artist_id  genre_id\n",
       "song_id                               \n",
       "0           12070       8490         0\n",
       "1           19512       7975       134\n",
       "2           18953       3492         0"
      ]
     },
     "execution_count": 8,
     "metadata": {},
     "output_type": "execute_result"
    }
   ],
   "source": [
    "data_songs=pd.read_csv('song-attributes.txt',sep='\\t',header=None)\n",
    "data_songs.columns=['song_id','album_id','artist_id','genre_id']\n",
    "data_songs.set_index('song_id',inplace=True)\n",
    "data_songs.head(3)"
   ]
  },
  {
   "cell_type": "markdown",
   "id": "8ea0950d",
   "metadata": {},
   "source": [
    "#### 2. Preparing data for usage in models"
   ]
  },
  {
   "cell_type": "code",
   "execution_count": 9,
   "id": "bd9a9c8b",
   "metadata": {},
   "outputs": [
    {
     "name": "stdout",
     "output_type": "stream",
     "text": [
      "<class 'pandas.core.frame.DataFrame'>\n",
      "RangeIndex: 76344627 entries, 0 to 76344626\n",
      "Data columns (total 3 columns):\n",
      " #   Column   Dtype\n",
      "---  ------   -----\n",
      " 0   user_id  int64\n",
      " 1   song_id  int64\n",
      " 2   rating   int64\n",
      "dtypes: int64(3)\n",
      "memory usage: 1.7 GB\n"
     ]
    }
   ],
   "source": [
    "data.info()"
   ]
  },
  {
   "cell_type": "markdown",
   "id": "26917e94",
   "metadata": {},
   "source": [
    "Since surprise package isn't handling too well big sets of data (here train data consists of 76 344 627 rows), it will be cut."
   ]
  },
  {
   "cell_type": "code",
   "execution_count": 10,
   "id": "c551dc29",
   "metadata": {},
   "outputs": [],
   "source": [
    "data2=data[:300000].copy()"
   ]
  },
  {
   "cell_type": "code",
   "execution_count": 11,
   "id": "59d76df7",
   "metadata": {},
   "outputs": [
    {
     "name": "stdout",
     "output_type": "stream",
     "text": [
      "After sampling the train data is left with:\n",
      "Nr of rows:   300000 \n",
      "Nr of users:  745 \n",
      "Nr of songs:  86950\n"
     ]
    }
   ],
   "source": [
    "print('After sampling the train data is left with:')\n",
    "print('Nr of rows:   300000','\\nNr of users: ',data2['user_id'].nunique(),'\\nNr of songs: ',data2['song_id'].nunique())"
   ]
  },
  {
   "cell_type": "markdown",
   "id": "3cb7c656",
   "metadata": {},
   "source": [
    "Test data will be sampled to match the amount of users that are in the cut dataset (data2).\n",
    "<br>Test data is sorted in a following manner: rows nr [10n,10(n+1)-1] contain the user_id=n (n=0,1,2,...), song_id and rating score of that user for that song; <br>that makes it easy to cut the test data, knowing that the train data is sorted with regards to user ids as well and there are 745 unique users in the cut train data (data2)."
   ]
  },
  {
   "cell_type": "code",
   "execution_count": 12,
   "id": "7956069a",
   "metadata": {
    "scrolled": true
   },
   "outputs": [
    {
     "data": {
      "text/html": [
       "<div>\n",
       "<style scoped>\n",
       "    .dataframe tbody tr th:only-of-type {\n",
       "        vertical-align: middle;\n",
       "    }\n",
       "\n",
       "    .dataframe tbody tr th {\n",
       "        vertical-align: top;\n",
       "    }\n",
       "\n",
       "    .dataframe thead th {\n",
       "        text-align: right;\n",
       "    }\n",
       "</style>\n",
       "<table border=\"1\" class=\"dataframe\">\n",
       "  <thead>\n",
       "    <tr style=\"text-align: right;\">\n",
       "      <th></th>\n",
       "      <th>user_id</th>\n",
       "      <th>song_id</th>\n",
       "      <th>rating</th>\n",
       "    </tr>\n",
       "  </thead>\n",
       "  <tbody>\n",
       "    <tr>\n",
       "      <th>0</th>\n",
       "      <td>0</td>\n",
       "      <td>7171</td>\n",
       "      <td>5</td>\n",
       "    </tr>\n",
       "    <tr>\n",
       "      <th>1</th>\n",
       "      <td>0</td>\n",
       "      <td>8637</td>\n",
       "      <td>4</td>\n",
       "    </tr>\n",
       "    <tr>\n",
       "      <th>2</th>\n",
       "      <td>0</td>\n",
       "      <td>21966</td>\n",
       "      <td>4</td>\n",
       "    </tr>\n",
       "  </tbody>\n",
       "</table>\n",
       "</div>"
      ],
      "text/plain": [
       "   user_id  song_id  rating\n",
       "0        0     7171       5\n",
       "1        0     8637       4\n",
       "2        0    21966       4"
      ]
     },
     "execution_count": 12,
     "metadata": {},
     "output_type": "execute_result"
    }
   ],
   "source": [
    "data_test2=data_test[:7450].copy()\n",
    "data_test2.head(3)"
   ]
  },
  {
   "cell_type": "markdown",
   "id": "2b567094",
   "metadata": {},
   "source": [
    "Checking which songs from the test set aren't present in the train set and deleting rows from test set if so (since song_id is the only information provided (to the model) about the items, model's predictions for songs outside of the train data would be pointless).\n",
    "<br>*Note: a song in a test set is given ratings from different users than in the train set.*"
   ]
  },
  {
   "cell_type": "code",
   "execution_count": 13,
   "id": "8198ce90",
   "metadata": {},
   "outputs": [],
   "source": [
    "s_to_remove=[song for song in list(data_test2['song_id'].unique()) if song not in list(data2['song_id'].unique())]\n",
    "\n",
    "data_test2.drop([data_test2[data_test2['song_id']==i].index[0] for i in s_to_remove],inplace=True)"
   ]
  },
  {
   "cell_type": "markdown",
   "id": "704f3dab",
   "metadata": {},
   "source": [
    "#### Quick exploratory data analysis"
   ]
  },
  {
   "cell_type": "code",
   "execution_count": 14,
   "id": "510f838a",
   "metadata": {},
   "outputs": [
    {
     "data": {
      "text/html": [
       "<div>\n",
       "<style scoped>\n",
       "    .dataframe tbody tr th:only-of-type {\n",
       "        vertical-align: middle;\n",
       "    }\n",
       "\n",
       "    .dataframe tbody tr th {\n",
       "        vertical-align: top;\n",
       "    }\n",
       "\n",
       "    .dataframe thead th {\n",
       "        text-align: right;\n",
       "    }\n",
       "</style>\n",
       "<table border=\"1\" class=\"dataframe\">\n",
       "  <thead>\n",
       "    <tr style=\"text-align: right;\">\n",
       "      <th></th>\n",
       "      <th>song_id</th>\n",
       "      <th>genre_name</th>\n",
       "    </tr>\n",
       "  </thead>\n",
       "  <tbody>\n",
       "    <tr>\n",
       "      <th>0</th>\n",
       "      <td>0</td>\n",
       "      <td>Unknown</td>\n",
       "    </tr>\n",
       "    <tr>\n",
       "      <th>1</th>\n",
       "      <td>1</td>\n",
       "      <td>Unknown</td>\n",
       "    </tr>\n",
       "    <tr>\n",
       "      <th>2</th>\n",
       "      <td>2</td>\n",
       "      <td>Unknown</td>\n",
       "    </tr>\n",
       "  </tbody>\n",
       "</table>\n",
       "</div>"
      ],
      "text/plain": [
       "   song_id genre_name\n",
       "0        0    Unknown\n",
       "1        1    Unknown\n",
       "2        2    Unknown"
      ]
     },
     "execution_count": 14,
     "metadata": {},
     "output_type": "execute_result"
    }
   ],
   "source": [
    "df_info=pd.merge(data_songs,data_genres,on=['genre_id'])\n",
    "df_info.drop(columns=['album_id','artist_id','parent_genre_id','level','genre_id'],inplace=True)\n",
    "df_info.reset_index(inplace=True)\n",
    "df_info.columns=['song_id','genre_name']\n",
    "df_info.head(3)"
   ]
  },
  {
   "cell_type": "code",
   "execution_count": 15,
   "id": "f5bbbc98",
   "metadata": {
    "scrolled": true
   },
   "outputs": [
    {
     "data": {
      "text/html": [
       "<div>\n",
       "<style scoped>\n",
       "    .dataframe tbody tr th:only-of-type {\n",
       "        vertical-align: middle;\n",
       "    }\n",
       "\n",
       "    .dataframe tbody tr th {\n",
       "        vertical-align: top;\n",
       "    }\n",
       "\n",
       "    .dataframe thead th {\n",
       "        text-align: right;\n",
       "    }\n",
       "</style>\n",
       "<table border=\"1\" class=\"dataframe\">\n",
       "  <thead>\n",
       "    <tr style=\"text-align: right;\">\n",
       "      <th></th>\n",
       "      <th>user_id</th>\n",
       "      <th>song_id</th>\n",
       "      <th>rating</th>\n",
       "      <th>genre_name</th>\n",
       "    </tr>\n",
       "  </thead>\n",
       "  <tbody>\n",
       "    <tr>\n",
       "      <th>0</th>\n",
       "      <td>0</td>\n",
       "      <td>166</td>\n",
       "      <td>5</td>\n",
       "      <td>Unknown</td>\n",
       "    </tr>\n",
       "    <tr>\n",
       "      <th>1</th>\n",
       "      <td>0</td>\n",
       "      <td>2245</td>\n",
       "      <td>4</td>\n",
       "      <td>Unknown</td>\n",
       "    </tr>\n",
       "    <tr>\n",
       "      <th>2</th>\n",
       "      <td>6</td>\n",
       "      <td>2245</td>\n",
       "      <td>5</td>\n",
       "      <td>Unknown</td>\n",
       "    </tr>\n",
       "  </tbody>\n",
       "</table>\n",
       "</div>"
      ],
      "text/plain": [
       "   user_id  song_id  rating genre_name\n",
       "0        0      166       5    Unknown\n",
       "1        0     2245       4    Unknown\n",
       "2        6     2245       5    Unknown"
      ]
     },
     "execution_count": 15,
     "metadata": {},
     "output_type": "execute_result"
    }
   ],
   "source": [
    "data3=data2.merge(df_info,on='song_id')\n",
    "data3.head(3)"
   ]
  },
  {
   "cell_type": "code",
   "execution_count": 16,
   "id": "df916fcb",
   "metadata": {},
   "outputs": [
    {
     "data": {
      "image/png": "[encoded data removed]",
      "text/plain": [
       "<Figure size 720x504 with 1 Axes>"
      ]
     },
     "metadata": {
      "needs_background": "light"
     },
     "output_type": "display_data"
    }
   ],
   "source": [
    "fig,ax=plt.subplots(figsize=(10,7))\n",
    "sns.histplot(data3['rating'],color='lightblue',binwidth=.25, )\n",
    "ax.set_xticks([1,2,3,4,5])\n",
    "plt.title('Frequency of ratings in the dataset')\n",
    "plt.show()"
   ]
  },
  {
   "cell_type": "markdown",
   "id": "6f30786f",
   "metadata": {},
   "source": [
    "It's a bit dysproportional, but rather not as much to cause problems"
   ]
  },
  {
   "cell_type": "code",
   "execution_count": 17,
   "id": "6256f4a4",
   "metadata": {},
   "outputs": [
    {
     "name": "stdout",
     "output_type": "stream",
     "text": [
      "5 most rated songs\n"
     ]
    },
    {
     "data": {
      "text/html": [
       "<div>\n",
       "<style scoped>\n",
       "    .dataframe tbody tr th:only-of-type {\n",
       "        vertical-align: middle;\n",
       "    }\n",
       "\n",
       "    .dataframe tbody tr th {\n",
       "        vertical-align: top;\n",
       "    }\n",
       "\n",
       "    .dataframe thead th {\n",
       "        text-align: right;\n",
       "    }\n",
       "</style>\n",
       "<table border=\"1\" class=\"dataframe\">\n",
       "  <thead>\n",
       "    <tr style=\"text-align: right;\">\n",
       "      <th></th>\n",
       "      <th>song_id</th>\n",
       "      <th>times rated</th>\n",
       "      <th>genre_name</th>\n",
       "    </tr>\n",
       "  </thead>\n",
       "  <tbody>\n",
       "    <tr>\n",
       "      <th>0</th>\n",
       "      <td>105433</td>\n",
       "      <td>151</td>\n",
       "      <td>Unknown</td>\n",
       "    </tr>\n",
       "    <tr>\n",
       "      <th>1</th>\n",
       "      <td>123176</td>\n",
       "      <td>135</td>\n",
       "      <td>Rock</td>\n",
       "    </tr>\n",
       "    <tr>\n",
       "      <th>2</th>\n",
       "      <td>22763</td>\n",
       "      <td>131</td>\n",
       "      <td>Unknown</td>\n",
       "    </tr>\n",
       "    <tr>\n",
       "      <th>3</th>\n",
       "      <td>8063</td>\n",
       "      <td>128</td>\n",
       "      <td>Unknown</td>\n",
       "    </tr>\n",
       "    <tr>\n",
       "      <th>4</th>\n",
       "      <td>72309</td>\n",
       "      <td>124</td>\n",
       "      <td>Unknown</td>\n",
       "    </tr>\n",
       "  </tbody>\n",
       "</table>\n",
       "</div>"
      ],
      "text/plain": [
       "   song_id  times rated genre_name\n",
       "0   105433          151    Unknown\n",
       "1   123176          135       Rock\n",
       "2    22763          131    Unknown\n",
       "3     8063          128    Unknown\n",
       "4    72309          124    Unknown"
      ]
     },
     "execution_count": 17,
     "metadata": {},
     "output_type": "execute_result"
    }
   ],
   "source": [
    "print('5 most rated songs')\n",
    "most5=data3.groupby('song_id').count()['user_id'].sort_values(ascending=False)[:5]\n",
    "most5=most5.reset_index()\n",
    "most5.columns=['song_id','times rated']\n",
    "most5=pd.merge(most5,df_info,on='song_id')\n",
    "most5"
   ]
  },
  {
   "cell_type": "code",
   "execution_count": 18,
   "id": "10b240d4",
   "metadata": {},
   "outputs": [
    {
     "name": "stdout",
     "output_type": "stream",
     "text": [
      "5 most rated genres:\n"
     ]
    },
    {
     "data": {
      "text/plain": [
       "genre_name\n",
       "Unknown    259123\n",
       "Rock        16211\n",
       "Pop          6797\n",
       "R&B          5015\n",
       "Country      2614\n",
       "Name: user_id, dtype: int64"
      ]
     },
     "execution_count": 18,
     "metadata": {},
     "output_type": "execute_result"
    }
   ],
   "source": [
    "print('5 most rated genres:')\n",
    "data3.groupby('genre_name').count()['user_id'].sort_values(ascending=False)[:5]"
   ]
  },
  {
   "cell_type": "markdown",
   "id": "5ce4b0ea",
   "metadata": {},
   "source": [
    "Due to the imbalance, rows with songs belonging to unknown genres will be dropped (only for visualization)"
   ]
  },
  {
   "cell_type": "code",
   "execution_count": 19,
   "id": "97040c58",
   "metadata": {},
   "outputs": [],
   "source": [
    "data3=data3.drop(data3[data3['genre_name']=='Unknown'].index)\n",
    "data3['genre_name']=pd.Categorical(data3['genre_name'],list(data3.groupby('genre_name').count()['rating'].sort_values(ascending=False).index))"
   ]
  },
  {
   "cell_type": "code",
   "execution_count": 20,
   "id": "c6de913d",
   "metadata": {
    "scrolled": false
   },
   "outputs": [
    {
     "data": {
      "image/png": "[encoded data removed]",
      "text/plain": [
       "<Figure size 1080x576 with 1 Axes>"
      ]
     },
     "metadata": {
      "needs_background": "light"
     },
     "output_type": "display_data"
    }
   ],
   "source": [
    "fig,ax=plt.subplots(figsize=(15,8))\n",
    "sns.histplot(data3['genre_name'],color='orange')\n",
    "plt.xticks(rotation=90)\n",
    "plt.title('Occurrence of songs from a given genre in the dataset')\n",
    "plt.show()"
   ]
  },
  {
   "cell_type": "markdown",
   "id": "0250c92f",
   "metadata": {},
   "source": [
    "Preparing the data solely for the surprise package"
   ]
  },
  {
   "cell_type": "code",
   "execution_count": 21,
   "id": "446d33ee",
   "metadata": {},
   "outputs": [],
   "source": [
    "reader = Reader(line_format='user item rating', rating_scale=(1, 5))"
   ]
  },
  {
   "cell_type": "code",
   "execution_count": 22,
   "id": "55033909",
   "metadata": {},
   "outputs": [],
   "source": [
    "class DatasetTr(dataset.DatasetAutoFolds):\n",
    "    def __init__(self, df, reader):\n",
    "        self.raw_ratings = [(uid, iid, r, None) for (uid, iid, r) in\n",
    "                            zip(df['user_id'], df['song_id'], df['rating'])]\n",
    "        self.reader=reader"
   ]
  },
  {
   "cell_type": "code",
   "execution_count": 23,
   "id": "747b62ad",
   "metadata": {},
   "outputs": [],
   "source": [
    "algdata=DatasetTr(data2,reader)"
   ]
  },
  {
   "cell_type": "markdown",
   "id": "aea85a3d",
   "metadata": {},
   "source": [
    "## II. Model training"
   ]
  },
  {
   "cell_type": "markdown",
   "id": "cb09d048",
   "metadata": {},
   "source": [
    "### 1. SVD\n",
    "The predicted rating $\\hat{r}_{ui}$ of item $i$ by user $u$ is set as:\n",
    "$$\\hat{r}_{ui} = \\mu + b_u + b_i + q_i^Tp_u$$\n",
    "<br>where $\\mu$ is the mean of all ratings,\n",
    "<br>$\\begin{split}b_u &\\leftarrow b_u &+ \\gamma (e_{ui} - \\lambda b_u)\\\\\n",
    "b_i &\\leftarrow b_i &+ \\gamma (e_{ui} - \\lambda b_i)\\\\\n",
    "p_u &\\leftarrow p_u &+ \\gamma (e_{ui} \\cdot q_i - \\lambda p_u)\\\\\n",
    "q_i &\\leftarrow q_i &+ \\gamma (e_{ui} \\cdot p_u - \\lambda q_i)\\end{split}$\n",
    "<br>$e_{ui} = r_{ui} - \\hat{r}_{ui}$"
   ]
  },
  {
   "cell_type": "markdown",
   "id": "5d5558d8",
   "metadata": {},
   "source": [
    "#### i. Cross validation approach\n",
    "<br>Test data is sampled from the training data"
   ]
  },
  {
   "cell_type": "code",
   "execution_count": 24,
   "id": "d132c3b4",
   "metadata": {
    "scrolled": true
   },
   "outputs": [
    {
     "name": "stdout",
     "output_type": "stream",
     "text": [
      "Evaluating RMSE, MAE of algorithm SVD on 5 split(s).\n",
      "\n",
      "                  Fold 1  Fold 2  Fold 3  Fold 4  Fold 5  Mean    Std     \n",
      "RMSE (testset)    1.2968  1.2777  1.2853  1.2906  1.2959  1.2893  0.0071  \n",
      "MAE (testset)     1.0329  1.0202  1.0258  1.0290  1.0343  1.0284  0.0051  \n",
      "Fit time          10.00   9.97    10.18   9.95    9.99    10.02   0.08    \n",
      "Test time         0.43    0.31    0.41    0.41    0.41    0.39    0.04    \n"
     ]
    },
    {
     "data": {
      "text/plain": [
       "{'test_rmse': array([1.29675803, 1.27774589, 1.28534123, 1.29060712, 1.29587056]),\n",
       " 'test_mae': array([1.03291951, 1.02018196, 1.02580861, 1.02897953, 1.03429755]),\n",
       " 'fit_time': (9.998781681060791,\n",
       "  9.968886852264404,\n",
       "  10.18325686454773,\n",
       "  9.952693462371826,\n",
       "  9.99449348449707),\n",
       " 'test_time': (0.4253392219543457,\n",
       "  0.31105732917785645,\n",
       "  0.40946459770202637,\n",
       "  0.4063088893890381,\n",
       "  0.40756702423095703)}"
      ]
     },
     "execution_count": 24,
     "metadata": {},
     "output_type": "execute_result"
    }
   ],
   "source": [
    "svd = SVD()\n",
    "cross_validate(svd, algdata, measures=['RMSE', 'MAE'], cv=5, verbose=True)"
   ]
  },
  {
   "cell_type": "markdown",
   "id": "4855b865",
   "metadata": {},
   "source": [
    "#### ii. Using provided test data"
   ]
  },
  {
   "cell_type": "code",
   "execution_count": 25,
   "id": "37bf7a61",
   "metadata": {},
   "outputs": [],
   "source": [
    "trainset_model_surprise = Dataset.load_from_df(data2, reader).build_full_trainset()\n",
    "testset_model_surprise = Dataset.load_from_df(data_test2, reader).build_full_trainset()\n",
    "testset = testset_model_surprise.build_testset()"
   ]
  },
  {
   "cell_type": "code",
   "execution_count": 26,
   "id": "0d241a6c",
   "metadata": {},
   "outputs": [],
   "source": [
    "svd2 = SVD()\n",
    "svd2.fit(trainset_model_surprise)\n",
    "# predicting for (user, song) pairs that are in the test set\n",
    "predictions = svd2.test(testset)"
   ]
  },
  {
   "cell_type": "code",
   "execution_count": 27,
   "id": "5b70e2dd",
   "metadata": {},
   "outputs": [
    {
     "data": {
      "text/html": [
       "<div>\n",
       "<style scoped>\n",
       "    .dataframe tbody tr th:only-of-type {\n",
       "        vertical-align: middle;\n",
       "    }\n",
       "\n",
       "    .dataframe tbody tr th {\n",
       "        vertical-align: top;\n",
       "    }\n",
       "\n",
       "    .dataframe thead th {\n",
       "        text-align: right;\n",
       "    }\n",
       "</style>\n",
       "<table border=\"1\" class=\"dataframe\">\n",
       "  <thead>\n",
       "    <tr style=\"text-align: right;\">\n",
       "      <th></th>\n",
       "      <th>user_id</th>\n",
       "      <th>song_id</th>\n",
       "      <th>real_rating</th>\n",
       "      <th>predicted_rating</th>\n",
       "      <th>details</th>\n",
       "      <th>error</th>\n",
       "    </tr>\n",
       "  </thead>\n",
       "  <tbody>\n",
       "    <tr>\n",
       "      <th>0</th>\n",
       "      <td>0</td>\n",
       "      <td>7171</td>\n",
       "      <td>5.0</td>\n",
       "      <td>4.220941</td>\n",
       "      <td>{'was_impossible': False}</td>\n",
       "      <td>0.779059</td>\n",
       "    </tr>\n",
       "    <tr>\n",
       "      <th>1</th>\n",
       "      <td>0</td>\n",
       "      <td>8637</td>\n",
       "      <td>4.0</td>\n",
       "      <td>4.209725</td>\n",
       "      <td>{'was_impossible': False}</td>\n",
       "      <td>0.209725</td>\n",
       "    </tr>\n",
       "    <tr>\n",
       "      <th>2</th>\n",
       "      <td>0</td>\n",
       "      <td>21966</td>\n",
       "      <td>4.0</td>\n",
       "      <td>4.135980</td>\n",
       "      <td>{'was_impossible': False}</td>\n",
       "      <td>0.135980</td>\n",
       "    </tr>\n",
       "    <tr>\n",
       "      <th>3</th>\n",
       "      <td>0</td>\n",
       "      <td>90409</td>\n",
       "      <td>5.0</td>\n",
       "      <td>4.438259</td>\n",
       "      <td>{'was_impossible': False}</td>\n",
       "      <td>0.561741</td>\n",
       "    </tr>\n",
       "    <tr>\n",
       "      <th>4</th>\n",
       "      <td>0</td>\n",
       "      <td>107410</td>\n",
       "      <td>5.0</td>\n",
       "      <td>4.252025</td>\n",
       "      <td>{'was_impossible': False}</td>\n",
       "      <td>0.747975</td>\n",
       "    </tr>\n",
       "  </tbody>\n",
       "</table>\n",
       "</div>"
      ],
      "text/plain": [
       "   user_id  song_id  real_rating  predicted_rating                    details  \\\n",
       "0        0     7171          5.0          4.220941  {'was_impossible': False}   \n",
       "1        0     8637          4.0          4.209725  {'was_impossible': False}   \n",
       "2        0    21966          4.0          4.135980  {'was_impossible': False}   \n",
       "3        0    90409          5.0          4.438259  {'was_impossible': False}   \n",
       "4        0   107410          5.0          4.252025  {'was_impossible': False}   \n",
       "\n",
       "      error  \n",
       "0  0.779059  \n",
       "1  0.209725  \n",
       "2  0.135980  \n",
       "3  0.561741  \n",
       "4  0.747975  "
      ]
     },
     "execution_count": 27,
     "metadata": {},
     "output_type": "execute_result"
    }
   ],
   "source": [
    "result = pd.DataFrame(predictions, columns=['user_id', 'song_id', 'real_rating', 'predicted_rating', 'details'])\n",
    "result['error'] = abs(result['real_rating'] - result['predicted_rating'])\n",
    "result.head()"
   ]
  },
  {
   "cell_type": "code",
   "execution_count": 28,
   "id": "c92154a1",
   "metadata": {},
   "outputs": [
    {
     "name": "stdout",
     "output_type": "stream",
     "text": [
      "RMSE: 1.2753\n"
     ]
    },
    {
     "data": {
      "text/plain": [
       "1.2753427794906793"
      ]
     },
     "execution_count": 28,
     "metadata": {},
     "output_type": "execute_result"
    }
   ],
   "source": [
    "accuracy.rmse(predictions, verbose=True)"
   ]
  },
  {
   "cell_type": "markdown",
   "id": "b873c099",
   "metadata": {},
   "source": [
    "### 2. k-NN Baseline model"
   ]
  },
  {
   "cell_type": "markdown",
   "id": "75ad0c14",
   "metadata": {},
   "source": [
    "The prediction $\\hat{r}_{ui}$ of user's $u$ rating of a song $i$ is equal to:\n",
    "$$\\hat{r}_{ui} = b_{ui} + \\frac{ \\sum\\limits_{v \\in N^k_i(u)}\n",
    "\\text{sim}(u, v) \\cdot (r_{vi} - b_{vi})} {\\sum\\limits_{v \\in\n",
    "N^k_i(u)} \\text{sim}(u, v)}$$\n",
    "where \n",
    "<br> $b_{ui},b_{vi}$ are baselines of song $i$ for users $u$ and $v$,\n",
    "<br>$N^k_i(u)$ is a set of k or less neighbours of user $u$ that have rated song $i$,\n",
    "<br> $\\text{sim}(u, v)$ is a similarity measure between user $u$ and neighbour $v$,\n",
    "<br> $r_{vi}$ is a true rating of a song $i$ given by neighbour $v$"
   ]
  },
  {
   "cell_type": "markdown",
   "id": "0224278c",
   "metadata": {},
   "source": [
    "#### i. Cross validation approach\n",
    "<br>Test data is sampled from the training data"
   ]
  },
  {
   "cell_type": "code",
   "execution_count": 29,
   "id": "6f9236f2",
   "metadata": {},
   "outputs": [
    {
     "name": "stdout",
     "output_type": "stream",
     "text": [
      "Estimating biases using als...\n",
      "Computing the pearson_baseline similarity matrix...\n",
      "Done computing similarity matrix.\n",
      "Estimating biases using als...\n",
      "Computing the pearson_baseline similarity matrix...\n",
      "Done computing similarity matrix.\n",
      "Estimating biases using als...\n",
      "Computing the pearson_baseline similarity matrix...\n",
      "Done computing similarity matrix.\n",
      "Estimating biases using als...\n",
      "Computing the pearson_baseline similarity matrix...\n",
      "Done computing similarity matrix.\n",
      "Estimating biases using als...\n",
      "Computing the pearson_baseline similarity matrix...\n",
      "Done computing similarity matrix.\n",
      "Evaluating RMSE, MAE of algorithm KNNBaseline on 5 split(s).\n",
      "\n",
      "                  Fold 1  Fold 2  Fold 3  Fold 4  Fold 5  Mean    Std     \n",
      "RMSE (testset)    1.3372  1.3350  1.3328  1.3377  1.3444  1.3374  0.0039  \n",
      "MAE (testset)     1.0320  1.0316  1.0305  1.0347  1.0371  1.0332  0.0024  \n",
      "Fit time          0.86    0.94    0.98    0.92    0.92    0.93    0.04    \n",
      "Test time         1.12    1.07    1.08    1.07    1.09    1.09    0.02    \n"
     ]
    }
   ],
   "source": [
    "sim_options = {'name': 'pearson_baseline', \n",
    "               'user_based': True}\n",
    "knn = KNNBaseline(sim_options=sim_options, verbose = True)\n",
    "cv = cross_validate(knn, algdata, measures = ['RMSE', 'MAE'], cv = 5, verbose = True)"
   ]
  },
  {
   "cell_type": "markdown",
   "id": "c80e7357",
   "metadata": {},
   "source": [
    "#### ii. Using provided test data"
   ]
  },
  {
   "cell_type": "code",
   "execution_count": 30,
   "id": "7b666c7f",
   "metadata": {},
   "outputs": [
    {
     "name": "stdout",
     "output_type": "stream",
     "text": [
      "Estimating biases using als...\n",
      "Computing the pearson_baseline similarity matrix...\n",
      "Done computing similarity matrix.\n"
     ]
    },
    {
     "data": {
      "text/html": [
       "<div>\n",
       "<style scoped>\n",
       "    .dataframe tbody tr th:only-of-type {\n",
       "        vertical-align: middle;\n",
       "    }\n",
       "\n",
       "    .dataframe tbody tr th {\n",
       "        vertical-align: top;\n",
       "    }\n",
       "\n",
       "    .dataframe thead th {\n",
       "        text-align: right;\n",
       "    }\n",
       "</style>\n",
       "<table border=\"1\" class=\"dataframe\">\n",
       "  <thead>\n",
       "    <tr style=\"text-align: right;\">\n",
       "      <th></th>\n",
       "      <th>user_id</th>\n",
       "      <th>song_id</th>\n",
       "      <th>real_rating</th>\n",
       "      <th>predicted_rating</th>\n",
       "      <th>details</th>\n",
       "      <th>error</th>\n",
       "    </tr>\n",
       "  </thead>\n",
       "  <tbody>\n",
       "    <tr>\n",
       "      <th>0</th>\n",
       "      <td>0</td>\n",
       "      <td>7171</td>\n",
       "      <td>5.0</td>\n",
       "      <td>4.297980</td>\n",
       "      <td>{'actual_k': 12, 'was_impossible': False}</td>\n",
       "      <td>0.702020</td>\n",
       "    </tr>\n",
       "    <tr>\n",
       "      <th>1</th>\n",
       "      <td>0</td>\n",
       "      <td>8637</td>\n",
       "      <td>4.0</td>\n",
       "      <td>3.983302</td>\n",
       "      <td>{'actual_k': 0, 'was_impossible': False}</td>\n",
       "      <td>0.016698</td>\n",
       "    </tr>\n",
       "    <tr>\n",
       "      <th>2</th>\n",
       "      <td>0</td>\n",
       "      <td>21966</td>\n",
       "      <td>4.0</td>\n",
       "      <td>5.000000</td>\n",
       "      <td>{'actual_k': 2, 'was_impossible': False}</td>\n",
       "      <td>1.000000</td>\n",
       "    </tr>\n",
       "    <tr>\n",
       "      <th>3</th>\n",
       "      <td>0</td>\n",
       "      <td>90409</td>\n",
       "      <td>5.0</td>\n",
       "      <td>4.524728</td>\n",
       "      <td>{'actual_k': 31, 'was_impossible': False}</td>\n",
       "      <td>0.475272</td>\n",
       "    </tr>\n",
       "    <tr>\n",
       "      <th>4</th>\n",
       "      <td>0</td>\n",
       "      <td>107410</td>\n",
       "      <td>5.0</td>\n",
       "      <td>5.000000</td>\n",
       "      <td>{'actual_k': 4, 'was_impossible': False}</td>\n",
       "      <td>0.000000</td>\n",
       "    </tr>\n",
       "  </tbody>\n",
       "</table>\n",
       "</div>"
      ],
      "text/plain": [
       "   user_id  song_id  real_rating  predicted_rating  \\\n",
       "0        0     7171          5.0          4.297980   \n",
       "1        0     8637          4.0          3.983302   \n",
       "2        0    21966          4.0          5.000000   \n",
       "3        0    90409          5.0          4.524728   \n",
       "4        0   107410          5.0          5.000000   \n",
       "\n",
       "                                     details     error  \n",
       "0  {'actual_k': 12, 'was_impossible': False}  0.702020  \n",
       "1   {'actual_k': 0, 'was_impossible': False}  0.016698  \n",
       "2   {'actual_k': 2, 'was_impossible': False}  1.000000  \n",
       "3  {'actual_k': 31, 'was_impossible': False}  0.475272  \n",
       "4   {'actual_k': 4, 'was_impossible': False}  0.000000  "
      ]
     },
     "execution_count": 30,
     "metadata": {},
     "output_type": "execute_result"
    }
   ],
   "source": [
    "sim_options = {'name': 'pearson_baseline', \n",
    "               'user_based': True}\n",
    "knn2 = KNNBaseline(sim_options=sim_options, verbose = True)\n",
    "predictions2 = knn2.fit(trainset_model_surprise).test(testset)\n",
    "\n",
    "result2 = pd.DataFrame(predictions2, columns=['user_id', 'song_id', 'real_rating', 'predicted_rating', 'details'])\n",
    "result2['error'] = abs(result2['real_rating'] - result2['predicted_rating'])\n",
    "result2.head()"
   ]
  },
  {
   "cell_type": "code",
   "execution_count": 31,
   "id": "14d08e8e",
   "metadata": {},
   "outputs": [
    {
     "name": "stdout",
     "output_type": "stream",
     "text": [
      "RMSE: 1.3284\n"
     ]
    },
    {
     "data": {
      "text/plain": [
       "1.3284497973409561"
      ]
     },
     "execution_count": 31,
     "metadata": {},
     "output_type": "execute_result"
    }
   ],
   "source": [
    "accuracy.rmse(predictions2, verbose=True)"
   ]
  },
  {
   "cell_type": "markdown",
   "id": "2bafce18",
   "metadata": {},
   "source": [
    "__The model that will be used is SVD due to lower RMSE__"
   ]
  },
  {
   "cell_type": "markdown",
   "id": "2fc2ef30",
   "metadata": {},
   "source": [
    "### 3. Parameter tuning "
   ]
  },
  {
   "cell_type": "code",
   "execution_count": 32,
   "id": "36c1f808",
   "metadata": {},
   "outputs": [],
   "source": [
    "param_grid = {'n_factors': [20,30,50],\n",
    "              'n_epochs': [20,30],\n",
    "              'lr_all':[0.000125,0.0025,0.005],\n",
    "              'reg_all':[0.025,0.05,0.075]}\n",
    "grid_search = GridSearchCV(SVD, param_grid, measures=['rmse','mae'], cv=3)\n",
    "grid_search.fit(algdata)     "
   ]
  },
  {
   "cell_type": "code",
   "execution_count": 33,
   "id": "f863e246",
   "metadata": {},
   "outputs": [
    {
     "name": "stdout",
     "output_type": "stream",
     "text": [
      "{'n_factors': 20, 'n_epochs': 30, 'lr_all': 0.0025, 'reg_all': 0.075}\n"
     ]
    }
   ],
   "source": [
    "print(grid_search.best_params['rmse'])"
   ]
  },
  {
   "cell_type": "code",
   "execution_count": 42,
   "id": "1ca0cbca",
   "metadata": {},
   "outputs": [],
   "source": [
    "svd = SVD(n_factors=20, n_epochs=30, lr_all=0.0025, reg_all=0.075)\n",
    "svd.fit(trainset_model_surprise)\n",
    "# predicting for (user, song) pairs that are in the test set\n",
    "predictions = svd.test(testset)"
   ]
  },
  {
   "cell_type": "code",
   "execution_count": 43,
   "id": "a6df8b9a",
   "metadata": {},
   "outputs": [
    {
     "data": {
      "text/html": [
       "<div>\n",
       "<style scoped>\n",
       "    .dataframe tbody tr th:only-of-type {\n",
       "        vertical-align: middle;\n",
       "    }\n",
       "\n",
       "    .dataframe tbody tr th {\n",
       "        vertical-align: top;\n",
       "    }\n",
       "\n",
       "    .dataframe thead th {\n",
       "        text-align: right;\n",
       "    }\n",
       "</style>\n",
       "<table border=\"1\" class=\"dataframe\">\n",
       "  <thead>\n",
       "    <tr style=\"text-align: right;\">\n",
       "      <th></th>\n",
       "      <th>user_id</th>\n",
       "      <th>song_id</th>\n",
       "      <th>real_rating</th>\n",
       "      <th>predicted_rating</th>\n",
       "      <th>details</th>\n",
       "      <th>error</th>\n",
       "    </tr>\n",
       "  </thead>\n",
       "  <tbody>\n",
       "    <tr>\n",
       "      <th>0</th>\n",
       "      <td>0</td>\n",
       "      <td>7171</td>\n",
       "      <td>5.0</td>\n",
       "      <td>4.124321</td>\n",
       "      <td>{'was_impossible': False}</td>\n",
       "      <td>0.875679</td>\n",
       "    </tr>\n",
       "    <tr>\n",
       "      <th>1</th>\n",
       "      <td>0</td>\n",
       "      <td>8637</td>\n",
       "      <td>4.0</td>\n",
       "      <td>4.181256</td>\n",
       "      <td>{'was_impossible': False}</td>\n",
       "      <td>0.181256</td>\n",
       "    </tr>\n",
       "    <tr>\n",
       "      <th>2</th>\n",
       "      <td>0</td>\n",
       "      <td>21966</td>\n",
       "      <td>4.0</td>\n",
       "      <td>4.233277</td>\n",
       "      <td>{'was_impossible': False}</td>\n",
       "      <td>0.233277</td>\n",
       "    </tr>\n",
       "    <tr>\n",
       "      <th>3</th>\n",
       "      <td>0</td>\n",
       "      <td>90409</td>\n",
       "      <td>5.0</td>\n",
       "      <td>4.265500</td>\n",
       "      <td>{'was_impossible': False}</td>\n",
       "      <td>0.734500</td>\n",
       "    </tr>\n",
       "    <tr>\n",
       "      <th>4</th>\n",
       "      <td>0</td>\n",
       "      <td>107410</td>\n",
       "      <td>5.0</td>\n",
       "      <td>4.160307</td>\n",
       "      <td>{'was_impossible': False}</td>\n",
       "      <td>0.839693</td>\n",
       "    </tr>\n",
       "  </tbody>\n",
       "</table>\n",
       "</div>"
      ],
      "text/plain": [
       "   user_id  song_id  real_rating  predicted_rating                    details  \\\n",
       "0        0     7171          5.0          4.124321  {'was_impossible': False}   \n",
       "1        0     8637          4.0          4.181256  {'was_impossible': False}   \n",
       "2        0    21966          4.0          4.233277  {'was_impossible': False}   \n",
       "3        0    90409          5.0          4.265500  {'was_impossible': False}   \n",
       "4        0   107410          5.0          4.160307  {'was_impossible': False}   \n",
       "\n",
       "      error  \n",
       "0  0.875679  \n",
       "1  0.181256  \n",
       "2  0.233277  \n",
       "3  0.734500  \n",
       "4  0.839693  "
      ]
     },
     "execution_count": 43,
     "metadata": {},
     "output_type": "execute_result"
    }
   ],
   "source": [
    "result = pd.DataFrame(predictions, columns=['user_id', 'song_id', 'real_rating', 'predicted_rating', 'details'])\n",
    "result['error'] = abs(result['real_rating'] - result['predicted_rating'])\n",
    "result.head()"
   ]
  },
  {
   "cell_type": "code",
   "execution_count": 44,
   "id": "375a6714",
   "metadata": {},
   "outputs": [
    {
     "name": "stdout",
     "output_type": "stream",
     "text": [
      "RMSE: 1.2578\n"
     ]
    },
    {
     "data": {
      "text/plain": [
       "1.2578073106861902"
      ]
     },
     "execution_count": 44,
     "metadata": {},
     "output_type": "execute_result"
    }
   ],
   "source": [
    "accuracy.rmse(predictions, verbose=True)"
   ]
  },
  {
   "cell_type": "markdown",
   "id": "986cafd5",
   "metadata": {},
   "source": [
    "Not much of an upgrade, but still better"
   ]
  },
  {
   "cell_type": "markdown",
   "id": "d6b289d1",
   "metadata": {},
   "source": [
    "## III. Performance visualization\n",
    "__Plot representing distance between real and predicted ratings__"
   ]
  },
  {
   "cell_type": "markdown",
   "id": "8f605777",
   "metadata": {},
   "source": [
    "Getting users who can be tested with 10 songs (those whose songs in test set were present in the train set and weren't deleted from the test set)"
   ]
  },
  {
   "cell_type": "code",
   "execution_count": 45,
   "id": "24df8976",
   "metadata": {},
   "outputs": [
    {
     "data": {
      "text/plain": [
       "Int64Index([  4,   5,   6,   7,   8,   9,  10,  14,  18,  20,\n",
       "            ...\n",
       "            725, 727, 728, 730, 731, 732, 735, 737, 741, 743],\n",
       "           dtype='int64', name='user_id', length=374)"
      ]
     },
     "execution_count": 45,
     "metadata": {},
     "output_type": "execute_result"
    }
   ],
   "source": [
    "result.groupby('user_id').count()['song_id'][result.groupby('user_id').count()['song_id']==10].index"
   ]
  },
  {
   "cell_type": "code",
   "execution_count": 46,
   "id": "de57eb45",
   "metadata": {},
   "outputs": [
    {
     "name": "stdout",
     "output_type": "stream",
     "text": [
      "374 users out of 745 still can be tested with 10 songs.\n"
     ]
    }
   ],
   "source": [
    "usrs10=list(result.groupby('user_id').count()['song_id'][result.groupby('user_id').count()['song_id']==10].index)\n",
    "print(len(usrs10),'users out of 745 still can be tested with 10 songs.')"
   ]
  },
  {
   "cell_type": "markdown",
   "id": "62f3d20e",
   "metadata": {},
   "source": [
    "Getting predicted and real ratings for some of these users"
   ]
  },
  {
   "cell_type": "code",
   "execution_count": 47,
   "id": "d51b6469",
   "metadata": {},
   "outputs": [],
   "source": [
    "n_users_vis=10\n",
    "pred_r=[[] for i in range(n_users_vis)]\n",
    "rl_r=[[] for i in range(n_users_vis)]\n",
    "genres_vis=[[] for i in range(n_users_vis)]\n",
    "user_nr_switch=140 # plotting for 10 next users, starting from user (0 + user_r_switch)\n",
    "\n",
    "for j in range(n_users_vis):\n",
    "    for i in range(10):\n",
    "        pred_r[j].append(int(result[result['user_id']==usrs10[j+user_nr_switch]].iloc[i]['predicted_rating']))\n",
    "        rl_r[j].append(result[result['user_id']==usrs10[j+user_nr_switch]].iloc[i]['real_rating'])\n",
    "        genres_vis[j].append(result[result['user_id']==usrs10[j+user_nr_switch]].merge(df_info,on='song_id').iloc[i]['genre_name'])"
   ]
  },
  {
   "cell_type": "code",
   "execution_count": 48,
   "id": "b8a8d4f1",
   "metadata": {},
   "outputs": [
    {
     "data": {
      "image/png": "[encoded data removed]",
      "text/plain": [
       "<Figure size 720x1260 with 10 Axes>"
      ]
     },
     "metadata": {
      "needs_background": "light"
     },
     "output_type": "display_data"
    }
   ],
   "source": [
    "fig,axes=plt.subplots(nrows=n_users_vis,ncols=1,figsize=(10,n_users_vis*1.75))\n",
    "xx=[i+1 for i in range(10)]\n",
    "ind=0\n",
    "\n",
    "for ax in axes:\n",
    "    pred=ax.plot(xx,pred_r[ind],c='red',marker='o',label='predicted rating',alpha=.7)\n",
    "    real=ax.plot(xx,rl_r[ind],c='blue',marker='*',label='real rating',alpha=.7)\n",
    "    \n",
    "    ax.fill_between(xx,pred_r[ind],rl_r[ind],color='lightgrey')\n",
    "\n",
    "    ax.set_xlabel('song')\n",
    "    ax.set_ylabel('rating')\n",
    "    ax.set_title('User '+str(usrs10[ind+user_nr_switch]))\n",
    "    ax.set_xticks(np.arange(1,11,1))\n",
    "    ax.set_xticklabels(genres_vis[ind])\n",
    "    ax.set_yticks(np.arange(1,6,1))\n",
    "    ax.set_ylim(.5,5.5)\n",
    "    ind+=1\n",
    "    \n",
    "axes[0].legend(handles=[pred[0],real[0]])\n",
    "fig.set_tight_layout(True)"
   ]
  },
  {
   "cell_type": "markdown",
   "id": "17514dcb",
   "metadata": {},
   "source": [
    "## IV. Recommending songs based on model's predictions"
   ]
  },
  {
   "cell_type": "code",
   "execution_count": null,
   "id": "f0a2c1ca",
   "metadata": {},
   "outputs": [],
   "source": [
    "# getting pairs (user_id, song_id) - all combinations of user-song that aren't in train set \n",
    "# (user ids and song ids are only from the train set)\n",
    "testset = trainset_model_surprise.build_anti_testset()"
   ]
  },
  {
   "cell_type": "code",
   "execution_count": 50,
   "id": "864b4e70",
   "metadata": {},
   "outputs": [],
   "source": [
    "testset2=[[] for i in range(data2['user_id'].nunique())]\n",
    "for i in range(len(testset)):\n",
    "    testset2[testset[i][0]].append([testset[i][0],testset[i][1]])"
   ]
  },
  {
   "cell_type": "code",
   "execution_count": 51,
   "id": "59793788",
   "metadata": {},
   "outputs": [],
   "source": [
    "# predicting just for the user stated as the parameter instead of fitting to whole trainset, due to lower memory usage\n",
    "def predict_ratings(user_id):\n",
    "    user_pred=pd.DataFrame(columns=['song_id','predicted_rating'])\n",
    "    # predict() function uses raw ids, so it's not needed to convert any ids since testset2 already contains raw ids\n",
    "    for i in range(len(testset2[user_id])):\n",
    "        user_pred.loc[i]=[testset2[user_id][i][1],svd.predict(testset2[user_id][i][0],testset2[user_id][i][1])[3]]\n",
    "    user_pred.sort_values('predicted_rating',ascending=False,inplace=True)\n",
    "    return user_pred"
   ]
  },
  {
   "cell_type": "markdown",
   "id": "1af50623",
   "metadata": {},
   "source": [
    "__This method is time consuming, as there are about 86k items to predict the stated user's ratings of__"
   ]
  },
  {
   "cell_type": "code",
   "execution_count": 52,
   "id": "46095d7d",
   "metadata": {},
   "outputs": [],
   "source": [
    "user_pred0=predict_ratings(0) # getting df with predictions of ratings of the user"
   ]
  },
  {
   "cell_type": "code",
   "execution_count": 53,
   "id": "a20d8115",
   "metadata": {},
   "outputs": [],
   "source": [
    "user_pred9=predict_ratings(9)"
   ]
  },
  {
   "cell_type": "code",
   "execution_count": 54,
   "id": "b60fd873",
   "metadata": {},
   "outputs": [],
   "source": [
    "def get_top_n_songs(user_id,n,user_df):\n",
    "    user_pred=user_df[:n]\n",
    "    user_pred=user_pred.merge(data_songs,on='song_id')\n",
    "    return user_pred"
   ]
  },
  {
   "cell_type": "code",
   "execution_count": 55,
   "id": "571cf6bf",
   "metadata": {
    "scrolled": true
   },
   "outputs": [
    {
     "data": {
      "text/html": [
       "<div>\n",
       "<style scoped>\n",
       "    .dataframe tbody tr th:only-of-type {\n",
       "        vertical-align: middle;\n",
       "    }\n",
       "\n",
       "    .dataframe tbody tr th {\n",
       "        vertical-align: top;\n",
       "    }\n",
       "\n",
       "    .dataframe thead th {\n",
       "        text-align: right;\n",
       "    }\n",
       "</style>\n",
       "<table border=\"1\" class=\"dataframe\">\n",
       "  <thead>\n",
       "    <tr style=\"text-align: right;\">\n",
       "      <th></th>\n",
       "      <th>song_id</th>\n",
       "      <th>predicted_rating</th>\n",
       "      <th>album_id</th>\n",
       "      <th>artist_id</th>\n",
       "      <th>genre_id</th>\n",
       "    </tr>\n",
       "  </thead>\n",
       "  <tbody>\n",
       "    <tr>\n",
       "      <th>0</th>\n",
       "      <td>56649.0</td>\n",
       "      <td>4.925749</td>\n",
       "      <td>8174</td>\n",
       "      <td>3196</td>\n",
       "      <td>0</td>\n",
       "    </tr>\n",
       "    <tr>\n",
       "      <th>1</th>\n",
       "      <td>50008.0</td>\n",
       "      <td>4.909728</td>\n",
       "      <td>14425</td>\n",
       "      <td>4806</td>\n",
       "      <td>0</td>\n",
       "    </tr>\n",
       "    <tr>\n",
       "      <th>2</th>\n",
       "      <td>107521.0</td>\n",
       "      <td>4.905840</td>\n",
       "      <td>18140</td>\n",
       "      <td>575</td>\n",
       "      <td>0</td>\n",
       "    </tr>\n",
       "    <tr>\n",
       "      <th>3</th>\n",
       "      <td>32336.0</td>\n",
       "      <td>4.895809</td>\n",
       "      <td>10126</td>\n",
       "      <td>6328</td>\n",
       "      <td>114</td>\n",
       "    </tr>\n",
       "    <tr>\n",
       "      <th>4</th>\n",
       "      <td>38274.0</td>\n",
       "      <td>4.890472</td>\n",
       "      <td>4818</td>\n",
       "      <td>5508</td>\n",
       "      <td>0</td>\n",
       "    </tr>\n",
       "    <tr>\n",
       "      <th>5</th>\n",
       "      <td>109228.0</td>\n",
       "      <td>4.885717</td>\n",
       "      <td>11575</td>\n",
       "      <td>1855</td>\n",
       "      <td>134</td>\n",
       "    </tr>\n",
       "    <tr>\n",
       "      <th>6</th>\n",
       "      <td>100981.0</td>\n",
       "      <td>4.884770</td>\n",
       "      <td>11785</td>\n",
       "      <td>6755</td>\n",
       "      <td>0</td>\n",
       "    </tr>\n",
       "    <tr>\n",
       "      <th>7</th>\n",
       "      <td>115178.0</td>\n",
       "      <td>4.878992</td>\n",
       "      <td>12258</td>\n",
       "      <td>3265</td>\n",
       "      <td>0</td>\n",
       "    </tr>\n",
       "    <tr>\n",
       "      <th>8</th>\n",
       "      <td>128058.0</td>\n",
       "      <td>4.871681</td>\n",
       "      <td>1140</td>\n",
       "      <td>6011</td>\n",
       "      <td>0</td>\n",
       "    </tr>\n",
       "    <tr>\n",
       "      <th>9</th>\n",
       "      <td>76558.0</td>\n",
       "      <td>4.869005</td>\n",
       "      <td>19542</td>\n",
       "      <td>3586</td>\n",
       "      <td>0</td>\n",
       "    </tr>\n",
       "  </tbody>\n",
       "</table>\n",
       "</div>"
      ],
      "text/plain": [
       "    song_id  predicted_rating  album_id  artist_id  genre_id\n",
       "0   56649.0          4.925749      8174       3196         0\n",
       "1   50008.0          4.909728     14425       4806         0\n",
       "2  107521.0          4.905840     18140        575         0\n",
       "3   32336.0          4.895809     10126       6328       114\n",
       "4   38274.0          4.890472      4818       5508         0\n",
       "5  109228.0          4.885717     11575       1855       134\n",
       "6  100981.0          4.884770     11785       6755         0\n",
       "7  115178.0          4.878992     12258       3265         0\n",
       "8  128058.0          4.871681      1140       6011         0\n",
       "9   76558.0          4.869005     19542       3586         0"
      ]
     },
     "execution_count": 55,
     "metadata": {},
     "output_type": "execute_result"
    }
   ],
   "source": [
    "get_top_n_songs(0,10,user_pred0)"
   ]
  },
  {
   "cell_type": "code",
   "execution_count": 56,
   "id": "130f301a",
   "metadata": {
    "scrolled": true
   },
   "outputs": [
    {
     "data": {
      "text/html": [
       "<div>\n",
       "<style scoped>\n",
       "    .dataframe tbody tr th:only-of-type {\n",
       "        vertical-align: middle;\n",
       "    }\n",
       "\n",
       "    .dataframe tbody tr th {\n",
       "        vertical-align: top;\n",
       "    }\n",
       "\n",
       "    .dataframe thead th {\n",
       "        text-align: right;\n",
       "    }\n",
       "</style>\n",
       "<table border=\"1\" class=\"dataframe\">\n",
       "  <thead>\n",
       "    <tr style=\"text-align: right;\">\n",
       "      <th></th>\n",
       "      <th>song_id</th>\n",
       "      <th>predicted_rating</th>\n",
       "      <th>album_id</th>\n",
       "      <th>artist_id</th>\n",
       "      <th>genre_id</th>\n",
       "    </tr>\n",
       "  </thead>\n",
       "  <tbody>\n",
       "    <tr>\n",
       "      <th>0</th>\n",
       "      <td>115178.0</td>\n",
       "      <td>4.199389</td>\n",
       "      <td>12258</td>\n",
       "      <td>3265</td>\n",
       "      <td>0</td>\n",
       "    </tr>\n",
       "    <tr>\n",
       "      <th>1</th>\n",
       "      <td>38274.0</td>\n",
       "      <td>4.191112</td>\n",
       "      <td>4818</td>\n",
       "      <td>5508</td>\n",
       "      <td>0</td>\n",
       "    </tr>\n",
       "    <tr>\n",
       "      <th>2</th>\n",
       "      <td>85454.0</td>\n",
       "      <td>4.186082</td>\n",
       "      <td>6672</td>\n",
       "      <td>6961</td>\n",
       "      <td>0</td>\n",
       "    </tr>\n",
       "    <tr>\n",
       "      <th>3</th>\n",
       "      <td>55612.0</td>\n",
       "      <td>4.176017</td>\n",
       "      <td>19280</td>\n",
       "      <td>7111</td>\n",
       "      <td>0</td>\n",
       "    </tr>\n",
       "    <tr>\n",
       "      <th>4</th>\n",
       "      <td>46482.0</td>\n",
       "      <td>4.123231</td>\n",
       "      <td>913</td>\n",
       "      <td>9302</td>\n",
       "      <td>0</td>\n",
       "    </tr>\n",
       "  </tbody>\n",
       "</table>\n",
       "</div>"
      ],
      "text/plain": [
       "    song_id  predicted_rating  album_id  artist_id  genre_id\n",
       "0  115178.0          4.199389     12258       3265         0\n",
       "1   38274.0          4.191112      4818       5508         0\n",
       "2   85454.0          4.186082      6672       6961         0\n",
       "3   55612.0          4.176017     19280       7111         0\n",
       "4   46482.0          4.123231       913       9302         0"
      ]
     },
     "execution_count": 56,
     "metadata": {},
     "output_type": "execute_result"
    }
   ],
   "source": [
    "get_top_n_songs(9,5,user_pred9)"
   ]
  },
  {
   "cell_type": "markdown",
   "id": "29cd1c1e",
   "metadata": {},
   "source": [
    "## V. Operations on similiar users"
   ]
  },
  {
   "cell_type": "markdown",
   "id": "af70eeed",
   "metadata": {},
   "source": [
    "#### 1. Calculating similiar users\n",
    "<br>Calculating most similiar users will be based on the smallest euclidean and cosine distances (two separate approaches) between users' vectors  created by SVD as a part of matrix factorization process."
   ]
  },
  {
   "cell_type": "code",
   "execution_count": 57,
   "id": "b536b3fd",
   "metadata": {},
   "outputs": [
    {
     "data": {
      "text/plain": [
       "20"
      ]
     },
     "execution_count": 57,
     "metadata": {},
     "output_type": "execute_result"
    }
   ],
   "source": [
    "user_vectors=svd.pu\n",
    "len(user_vectors[0]) # = n_factors"
   ]
  },
  {
   "cell_type": "markdown",
   "id": "0e71e1ff",
   "metadata": {},
   "source": [
    "Calculating euclidian and cosine distance in 20 dimensions shouldn't cause problems connected to the 'Curse Of Dimensionality'"
   ]
  },
  {
   "cell_type": "code",
   "execution_count": 58,
   "id": "ad73b559",
   "metadata": {},
   "outputs": [],
   "source": [
    "# creating a list of dictionaries containing euclidian distances of a user to other users (for every user)\n",
    "# getting top n similiar users (with the smallest distance)\n",
    "distances_eu=[{} for i in range(data2['user_id'].nunique())]\n",
    "distances_cos=[{} for i in range(data2['user_id'].nunique())]\n",
    "similiar_users_eu=[[] for i in range(data2['user_id'].nunique())]\n",
    "similiar_users_cos=[[] for i in range(data2['user_id'].nunique())]\n",
    "n=5\n",
    "\n",
    "for i in range(data2['user_id'].nunique()):\n",
    "    for j in range(data2['user_id'].nunique()):\n",
    "        if j!=i:\n",
    "            distances_eu[i][j]=distance.euclidean(user_vectors[i],user_vectors[j])\n",
    "            distances_cos[i][j]=distance.cosine(user_vectors[i],user_vectors[j])\n",
    "    distances_eu[i]=dict(sorted(distances_eu[i].items(), key=lambda item: item[1]))\n",
    "    distances_cos[i]=dict(sorted(distances_cos[i].items(), key=lambda item: item[1]))\n",
    "    for k in range(n):\n",
    "        similiar_users_eu[i].append(list(distances_eu[i].keys())[k])\n",
    "        similiar_users_cos[i].append(list(distances_cos[i].keys())[k])"
   ]
  },
  {
   "cell_type": "code",
   "execution_count": 59,
   "id": "d9590dfb",
   "metadata": {},
   "outputs": [
    {
     "data": {
      "text/plain": [
       "[668, 77, 263, 734, 147]"
      ]
     },
     "execution_count": 59,
     "metadata": {},
     "output_type": "execute_result"
    }
   ],
   "source": [
    "similiar_users_eu[0]"
   ]
  },
  {
   "cell_type": "code",
   "execution_count": 60,
   "id": "16d08f88",
   "metadata": {},
   "outputs": [
    {
     "data": {
      "text/plain": [
       "[206, 70, 197, 232, 77]"
      ]
     },
     "execution_count": 60,
     "metadata": {},
     "output_type": "execute_result"
    }
   ],
   "source": [
    "similiar_users_cos[0]"
   ]
  },
  {
   "cell_type": "markdown",
   "id": "d0b86e15",
   "metadata": {},
   "source": [
    "The first used metric for similiarity will be cosine distance"
   ]
  },
  {
   "cell_type": "code",
   "execution_count": 83,
   "id": "14453aad",
   "metadata": {},
   "outputs": [],
   "source": [
    "similiar_users=similiar_users_cos"
   ]
  },
  {
   "cell_type": "markdown",
   "id": "25b0908b",
   "metadata": {},
   "source": [
    "#### 2. Taking a look at the model's performance from another perspective - loosely checking how metadata (in this example songs belonging to certain genres) has been decoded by the SVD model.\n",
    "<br>It will be done by comparing most similiar users mean song ratings with respect to genres (from first and second levels of genres hierarchy trees)."
   ]
  },
  {
   "cell_type": "code",
   "execution_count": 62,
   "id": "089938fd",
   "metadata": {},
   "outputs": [
    {
     "data": {
      "text/html": [
       "<div>\n",
       "<style scoped>\n",
       "    .dataframe tbody tr th:only-of-type {\n",
       "        vertical-align: middle;\n",
       "    }\n",
       "\n",
       "    .dataframe tbody tr th {\n",
       "        vertical-align: top;\n",
       "    }\n",
       "\n",
       "    .dataframe thead th {\n",
       "        text-align: right;\n",
       "    }\n",
       "</style>\n",
       "<table border=\"1\" class=\"dataframe\">\n",
       "  <thead>\n",
       "    <tr style=\"text-align: right;\">\n",
       "      <th></th>\n",
       "      <th>song_id</th>\n",
       "      <th>album_id</th>\n",
       "      <th>artist_id</th>\n",
       "      <th>genre_id</th>\n",
       "      <th>parent_genre_id</th>\n",
       "      <th>level</th>\n",
       "      <th>genre_name</th>\n",
       "    </tr>\n",
       "  </thead>\n",
       "  <tbody>\n",
       "    <tr>\n",
       "      <th>0</th>\n",
       "      <td>118294</td>\n",
       "      <td>19512</td>\n",
       "      <td>7975</td>\n",
       "      <td>134</td>\n",
       "      <td>134</td>\n",
       "      <td>1</td>\n",
       "      <td>Rock</td>\n",
       "    </tr>\n",
       "    <tr>\n",
       "      <th>1</th>\n",
       "      <td>118295</td>\n",
       "      <td>16830</td>\n",
       "      <td>6857</td>\n",
       "      <td>134</td>\n",
       "      <td>134</td>\n",
       "      <td>1</td>\n",
       "      <td>Rock</td>\n",
       "    </tr>\n",
       "    <tr>\n",
       "      <th>2</th>\n",
       "      <td>118296</td>\n",
       "      <td>16565</td>\n",
       "      <td>2183</td>\n",
       "      <td>134</td>\n",
       "      <td>134</td>\n",
       "      <td>1</td>\n",
       "      <td>Rock</td>\n",
       "    </tr>\n",
       "  </tbody>\n",
       "</table>\n",
       "</div>"
      ],
      "text/plain": [
       "   song_id  album_id  artist_id  genre_id  parent_genre_id  level genre_name\n",
       "0   118294     19512       7975       134              134      1       Rock\n",
       "1   118295     16830       6857       134              134      1       Rock\n",
       "2   118296     16565       2183       134              134      1       Rock"
      ]
     },
     "execution_count": 62,
     "metadata": {},
     "output_type": "execute_result"
    }
   ],
   "source": [
    "df_info2=pd.merge(data_songs,data_genres,on=['genre_id'])\n",
    "df_info2=df_info2[df_info2['genre_name']!='Unknown']\n",
    "df_info2.reset_index(inplace=True)\n",
    "df_info2.rename(columns={'index':'song_id'},inplace=True)\n",
    "df_info2.head(3) # sorted by genre_name"
   ]
  },
  {
   "cell_type": "code",
   "execution_count": 63,
   "id": "c6e56fb2",
   "metadata": {},
   "outputs": [],
   "source": [
    "# Assigning genres from one level above to the songs belonging to genres being the leafs\n",
    "# of the genres hirearchy trees (for more clearance in the next step)\n",
    "for i in range(df_info2.shape[0]):\n",
    "    if df_info2.iloc[i]['level']==3:\n",
    "        df_info2.loc[i,'genre_name']=data_genres.iloc[df_info2.iloc[i]['parent_genre_id']]['genre_name']\n",
    "        df_info2.loc[i,'level']=data_genres.iloc[df_info2.iloc[i]['parent_genre_id']]['level']\n",
    "df_info2.drop(columns=['album_id','artist_id','genre_id','parent_genre_id','level'],inplace=True)"
   ]
  },
  {
   "cell_type": "markdown",
   "id": "d84360eb",
   "metadata": {},
   "source": [
    "Comparison function"
   ]
  },
  {
   "cell_type": "code",
   "execution_count": 64,
   "id": "9c1d65b8",
   "metadata": {},
   "outputs": [],
   "source": [
    "def sim_users_comparison(user_nr):\n",
    "    neighbours=similiar_users[user_nr]\n",
    "    \n",
    "    def get_mean_ratings(user_nr):\n",
    "        df_for_userx=data2[data2['user_id']==user_nr]\n",
    "        df_info_userx=pd.merge(df_for_userx,df_info2,on='song_id')\n",
    "        # removing rows with songs with unknown genre name\n",
    "        df_info_userx=df_info_userx[df_info_userx['genre_name']!='Unknown']\n",
    "\n",
    "        songs_genres=[[] for i in range(df_info_userx['genre_name'].nunique())] # how many genres has been rated by user\n",
    "\n",
    "        for i in range(df_info_userx.shape[0]): # appending song ids to lists representing certain genres\n",
    "            songs_genres[list(df_info_userx['genre_name'].unique()).index(df_info_userx.iloc[i]['genre_name'])].append(df_info_userx.iloc[i]['song_id'])\n",
    "\n",
    "        songs_dict={}\n",
    "        songs_count_dict={}\n",
    "        for i in range(df_info_userx['genre_name'].nunique()):\n",
    "            songs_dict[list(df_info_userx['genre_name'].unique())[i]]=songs_genres[i]\n",
    "            songs_count_dict[list(df_info_userx['genre_name'].unique())[i]]=len(songs_genres[i])\n",
    "\n",
    "        # df containing amount of songs from each genre that has been rated by the user\n",
    "        songs_count_df=pd.DataFrame.from_dict(songs_count_dict,orient='index')\n",
    "        songs_count_df.reset_index(inplace=True)\n",
    "        songs_count_df.columns=['genre_name','song_count']\n",
    "        songs_count_df=songs_count_df.sort_values('genre_name')\n",
    "        songs_count_df.reset_index(inplace=True)\n",
    "        songs_count_df.drop(columns=['index'],inplace=True)\n",
    "\n",
    "        # df containing the mean rating for songs from each genre and the amount of them \n",
    "        df_info_userx=df_info_userx.groupby('genre_name').mean()\n",
    "        df_info_userx.reset_index(inplace=True)\n",
    "        df_info_userx['song_count']=songs_count_df['song_count']\n",
    "        df_info_userx.drop(columns=['user_id','song_id'],inplace=True)\n",
    "        df_info_userx=df_info_userx.sort_values('song_count',ascending=False)\n",
    "        df_info_userx.reset_index(inplace=True)\n",
    "        df_info_userx.drop(columns=['index'],inplace=True)\n",
    "        \n",
    "        return(df_info_userx,songs_dict)\n",
    "    \n",
    "    def get_shared_songs(neighbour_nr,main_user_dict,neighbour_dict):\n",
    "        xdict=main_user_dict\n",
    "        ydict=neighbour_dict\n",
    "\n",
    "        shared_songs={}\n",
    "        for x_genre in xdict:\n",
    "            shared_songs[x_genre]=0\n",
    "            for song in xdict[x_genre]:\n",
    "                if x_genre in ydict.keys():\n",
    "                    if song in ydict[x_genre]:\n",
    "                        shared_songs[x_genre]+=1\n",
    "        # df containing songs from each genre rated by both the user and his neighbour\n",
    "        shared_songs_df=pd.DataFrame.from_dict(shared_songs,orient='index')    \n",
    "        shared_songs_df.reset_index(inplace=True)\n",
    "        shared_songs_df.columns=['genre_name','songs_shared']\n",
    "        shared_songs_df=shared_songs_df.sort_values('genre_name',ascending=True)\n",
    "                \n",
    "        return shared_songs_df\n",
    "    \n",
    "    user_df=get_mean_ratings(user_nr)[0]\n",
    "    \n",
    "    n1=get_mean_ratings(neighbours[0])[0]\n",
    "    n1=n1.sort_values('song_count',ascending=False)\n",
    "    shared=get_shared_songs(neighbours[0],get_mean_ratings(user_nr)[1],get_mean_ratings(neighbours[0])[1])\n",
    "    n1['songs_shared']=shared['songs_shared']\n",
    "    \n",
    "    n2=get_mean_ratings(neighbours[1])[0]\n",
    "    n2=n2.sort_values('song_count',ascending=False)\n",
    "    shared=get_shared_songs(neighbours[1],get_mean_ratings(user_nr)[1],get_mean_ratings(neighbours[1])[1])\n",
    "    n2['songs_shared']=shared['songs_shared']\n",
    "    \n",
    "    return_df=pd.concat([user_df,n1,n2],axis=1)\n",
    "    cols = pd.MultiIndex.from_tuples([('User '+str(user_nr), 'Genre name'), \n",
    "                                      ('User '+str(user_nr), 'Mean rating'),\n",
    "                                      ('User '+str(user_nr), 'Song count'),\n",
    "                                      ('First neighbour: User '+str(neighbours[0]), 'Genre name'),\n",
    "                                      ('First neighbour: User '+str(neighbours[0]), 'Mean rating'),\n",
    "                                      ('First neighbour: User '+str(neighbours[0]), 'Song count'),\n",
    "                                      ('First neighbour: User '+str(neighbours[0]), 'Songs shared'),\n",
    "                                      ('Second neighbour: User '+str(neighbours[1]), 'Genre name'),\n",
    "                                      ('Second neighbour: User '+str(neighbours[1]), 'Mean rating'),\n",
    "                                      ('Second neighbour: User '+str(neighbours[1]), 'Song count'),\n",
    "                                      ('Second neighbour: User '+str(neighbours[1]), 'Songs shared')])\n",
    "    return_df.columns=cols\n",
    "    return_df.loc[:,('User '+str(user_nr),'Mean rating')]=return_df['User '+str(user_nr)]['Mean rating'].apply(lambda x: round(x,2) if np.isnan(x)==False else x)\n",
    "    return_df.loc[:,('First neighbour: User '+str(neighbours[0]),'Mean rating')]=return_df['First neighbour: User '+str(neighbours[0])]['Mean rating'].apply(lambda x: round(x,2) if np.isnan(x)==False else x)\n",
    "    return_df.loc[:,('Second neighbour: User '+str(neighbours[1]),'Mean rating')]=return_df['Second neighbour: User '+str(neighbours[1])]['Mean rating'].apply(lambda x: round(x,2) if np.isnan(x)==False else x)   \n",
    "\n",
    "    return return_df"
   ]
  },
  {
   "cell_type": "code",
   "execution_count": 84,
   "id": "62873459",
   "metadata": {},
   "outputs": [
    {
     "data": {
      "text/html": [
       "<div>\n",
       "<style scoped>\n",
       "    .dataframe tbody tr th:only-of-type {\n",
       "        vertical-align: middle;\n",
       "    }\n",
       "\n",
       "    .dataframe tbody tr th {\n",
       "        vertical-align: top;\n",
       "    }\n",
       "\n",
       "    .dataframe thead tr th {\n",
       "        text-align: left;\n",
       "    }\n",
       "</style>\n",
       "<table border=\"1\" class=\"dataframe\">\n",
       "  <thead>\n",
       "    <tr>\n",
       "      <th></th>\n",
       "      <th colspan=\"3\" halign=\"left\">User 0</th>\n",
       "      <th colspan=\"4\" halign=\"left\">First neighbour: User 206</th>\n",
       "      <th colspan=\"4\" halign=\"left\">Second neighbour: User 70</th>\n",
       "    </tr>\n",
       "    <tr>\n",
       "      <th></th>\n",
       "      <th>Genre name</th>\n",
       "      <th>Mean rating</th>\n",
       "      <th>Song count</th>\n",
       "      <th>Genre name</th>\n",
       "      <th>Mean rating</th>\n",
       "      <th>Song count</th>\n",
       "      <th>Songs shared</th>\n",
       "      <th>Genre name</th>\n",
       "      <th>Mean rating</th>\n",
       "      <th>Song count</th>\n",
       "      <th>Songs shared</th>\n",
       "    </tr>\n",
       "  </thead>\n",
       "  <tbody>\n",
       "    <tr>\n",
       "      <th>0</th>\n",
       "      <td>Rock</td>\n",
       "      <td>3.67</td>\n",
       "      <td>3.0</td>\n",
       "      <td>Rock</td>\n",
       "      <td>3.29</td>\n",
       "      <td>7</td>\n",
       "      <td>0.0</td>\n",
       "      <td>Rock</td>\n",
       "      <td>4.5</td>\n",
       "      <td>4.0</td>\n",
       "      <td>0.0</td>\n",
       "    </tr>\n",
       "    <tr>\n",
       "      <th>1</th>\n",
       "      <td>R&amp;B</td>\n",
       "      <td>5.00</td>\n",
       "      <td>2.0</td>\n",
       "      <td>Pop</td>\n",
       "      <td>3.60</td>\n",
       "      <td>5</td>\n",
       "      <td>0.0</td>\n",
       "      <td>Pop</td>\n",
       "      <td>4.0</td>\n",
       "      <td>3.0</td>\n",
       "      <td>0.0</td>\n",
       "    </tr>\n",
       "    <tr>\n",
       "      <th>2</th>\n",
       "      <td>Latin</td>\n",
       "      <td>4.00</td>\n",
       "      <td>1.0</td>\n",
       "      <td>R&amp;B</td>\n",
       "      <td>5.00</td>\n",
       "      <td>2</td>\n",
       "      <td>0.0</td>\n",
       "      <td>Classic R&amp;B</td>\n",
       "      <td>5.0</td>\n",
       "      <td>1.0</td>\n",
       "      <td>0.0</td>\n",
       "    </tr>\n",
       "    <tr>\n",
       "      <th>3</th>\n",
       "      <td>Mainstream Dance</td>\n",
       "      <td>5.00</td>\n",
       "      <td>1.0</td>\n",
       "      <td>Rap</td>\n",
       "      <td>3.50</td>\n",
       "      <td>2</td>\n",
       "      <td>0.0</td>\n",
       "      <td>Comedy</td>\n",
       "      <td>5.0</td>\n",
       "      <td>1.0</td>\n",
       "      <td>0.0</td>\n",
       "    </tr>\n",
       "    <tr>\n",
       "      <th>4</th>\n",
       "      <td>NaN</td>\n",
       "      <td>NaN</td>\n",
       "      <td>NaN</td>\n",
       "      <td>Adult Contemporary</td>\n",
       "      <td>2.00</td>\n",
       "      <td>1</td>\n",
       "      <td>NaN</td>\n",
       "      <td>Indie Rock</td>\n",
       "      <td>4.0</td>\n",
       "      <td>1.0</td>\n",
       "      <td>NaN</td>\n",
       "    </tr>\n",
       "    <tr>\n",
       "      <th>5</th>\n",
       "      <td>NaN</td>\n",
       "      <td>NaN</td>\n",
       "      <td>NaN</td>\n",
       "      <td>Classic R&amp;B</td>\n",
       "      <td>3.00</td>\n",
       "      <td>1</td>\n",
       "      <td>NaN</td>\n",
       "      <td>Jazz</td>\n",
       "      <td>2.0</td>\n",
       "      <td>1.0</td>\n",
       "      <td>NaN</td>\n",
       "    </tr>\n",
       "    <tr>\n",
       "      <th>6</th>\n",
       "      <td>NaN</td>\n",
       "      <td>NaN</td>\n",
       "      <td>NaN</td>\n",
       "      <td>Classic Rock</td>\n",
       "      <td>3.00</td>\n",
       "      <td>1</td>\n",
       "      <td>NaN</td>\n",
       "      <td>Latin</td>\n",
       "      <td>5.0</td>\n",
       "      <td>1.0</td>\n",
       "      <td>NaN</td>\n",
       "    </tr>\n",
       "    <tr>\n",
       "      <th>7</th>\n",
       "      <td>NaN</td>\n",
       "      <td>NaN</td>\n",
       "      <td>NaN</td>\n",
       "      <td>Country</td>\n",
       "      <td>4.00</td>\n",
       "      <td>1</td>\n",
       "      <td>NaN</td>\n",
       "      <td>Rap</td>\n",
       "      <td>3.0</td>\n",
       "      <td>1.0</td>\n",
       "      <td>NaN</td>\n",
       "    </tr>\n",
       "    <tr>\n",
       "      <th>8</th>\n",
       "      <td>NaN</td>\n",
       "      <td>NaN</td>\n",
       "      <td>NaN</td>\n",
       "      <td>Modern Blues</td>\n",
       "      <td>1.00</td>\n",
       "      <td>1</td>\n",
       "      <td>NaN</td>\n",
       "      <td>NaN</td>\n",
       "      <td>NaN</td>\n",
       "      <td>NaN</td>\n",
       "      <td>NaN</td>\n",
       "    </tr>\n",
       "    <tr>\n",
       "      <th>9</th>\n",
       "      <td>NaN</td>\n",
       "      <td>NaN</td>\n",
       "      <td>NaN</td>\n",
       "      <td>Reggae</td>\n",
       "      <td>5.00</td>\n",
       "      <td>1</td>\n",
       "      <td>NaN</td>\n",
       "      <td>NaN</td>\n",
       "      <td>NaN</td>\n",
       "      <td>NaN</td>\n",
       "      <td>NaN</td>\n",
       "    </tr>\n",
       "  </tbody>\n",
       "</table>\n",
       "</div>"
      ],
      "text/plain": [
       "             User 0                        First neighbour: User 206  \\\n",
       "         Genre name Mean rating Song count                Genre name   \n",
       "0              Rock        3.67        3.0                      Rock   \n",
       "1               R&B        5.00        2.0                       Pop   \n",
       "2             Latin        4.00        1.0                       R&B   \n",
       "3  Mainstream Dance        5.00        1.0                       Rap   \n",
       "4               NaN         NaN        NaN        Adult Contemporary   \n",
       "5               NaN         NaN        NaN               Classic R&B   \n",
       "6               NaN         NaN        NaN              Classic Rock   \n",
       "7               NaN         NaN        NaN                   Country   \n",
       "8               NaN         NaN        NaN              Modern Blues   \n",
       "9               NaN         NaN        NaN                    Reggae   \n",
       "\n",
       "                                      Second neighbour: User 70              \\\n",
       "  Mean rating Song count Songs shared                Genre name Mean rating   \n",
       "0        3.29          7          0.0                      Rock         4.5   \n",
       "1        3.60          5          0.0                       Pop         4.0   \n",
       "2        5.00          2          0.0               Classic R&B         5.0   \n",
       "3        3.50          2          0.0                    Comedy         5.0   \n",
       "4        2.00          1          NaN                Indie Rock         4.0   \n",
       "5        3.00          1          NaN                      Jazz         2.0   \n",
       "6        3.00          1          NaN                     Latin         5.0   \n",
       "7        4.00          1          NaN                       Rap         3.0   \n",
       "8        1.00          1          NaN                       NaN         NaN   \n",
       "9        5.00          1          NaN                       NaN         NaN   \n",
       "\n",
       "                           \n",
       "  Song count Songs shared  \n",
       "0        4.0          0.0  \n",
       "1        3.0          0.0  \n",
       "2        1.0          0.0  \n",
       "3        1.0          0.0  \n",
       "4        1.0          NaN  \n",
       "5        1.0          NaN  \n",
       "6        1.0          NaN  \n",
       "7        1.0          NaN  \n",
       "8        NaN          NaN  \n",
       "9        NaN          NaN  "
      ]
     },
     "execution_count": 84,
     "metadata": {},
     "output_type": "execute_result"
    }
   ],
   "source": [
    "sim_users_comparison(0)"
   ]
  },
  {
   "cell_type": "code",
   "execution_count": 89,
   "id": "9c20dad4",
   "metadata": {},
   "outputs": [
    {
     "data": {
      "text/html": [
       "<div>\n",
       "<style scoped>\n",
       "    .dataframe tbody tr th:only-of-type {\n",
       "        vertical-align: middle;\n",
       "    }\n",
       "\n",
       "    .dataframe tbody tr th {\n",
       "        vertical-align: top;\n",
       "    }\n",
       "\n",
       "    .dataframe thead tr th {\n",
       "        text-align: left;\n",
       "    }\n",
       "</style>\n",
       "<table border=\"1\" class=\"dataframe\">\n",
       "  <thead>\n",
       "    <tr>\n",
       "      <th></th>\n",
       "      <th colspan=\"3\" halign=\"left\">User 15</th>\n",
       "      <th colspan=\"4\" halign=\"left\">First neighbour: User 614</th>\n",
       "      <th colspan=\"4\" halign=\"left\">Second neighbour: User 571</th>\n",
       "    </tr>\n",
       "    <tr>\n",
       "      <th></th>\n",
       "      <th>Genre name</th>\n",
       "      <th>Mean rating</th>\n",
       "      <th>Song count</th>\n",
       "      <th>Genre name</th>\n",
       "      <th>Mean rating</th>\n",
       "      <th>Song count</th>\n",
       "      <th>Songs shared</th>\n",
       "      <th>Genre name</th>\n",
       "      <th>Mean rating</th>\n",
       "      <th>Song count</th>\n",
       "      <th>Songs shared</th>\n",
       "    </tr>\n",
       "  </thead>\n",
       "  <tbody>\n",
       "    <tr>\n",
       "      <th>0</th>\n",
       "      <td>Rock</td>\n",
       "      <td>2.0</td>\n",
       "      <td>12</td>\n",
       "      <td>Rock</td>\n",
       "      <td>2.33</td>\n",
       "      <td>12.0</td>\n",
       "      <td>0.0</td>\n",
       "      <td>Rock</td>\n",
       "      <td>2.25</td>\n",
       "      <td>16.0</td>\n",
       "      <td>2.0</td>\n",
       "    </tr>\n",
       "    <tr>\n",
       "      <th>1</th>\n",
       "      <td>Pop</td>\n",
       "      <td>2.4</td>\n",
       "      <td>5</td>\n",
       "      <td>Pop</td>\n",
       "      <td>2.75</td>\n",
       "      <td>8.0</td>\n",
       "      <td>0.0</td>\n",
       "      <td>R&amp;B</td>\n",
       "      <td>1.64</td>\n",
       "      <td>11.0</td>\n",
       "      <td>0.0</td>\n",
       "    </tr>\n",
       "    <tr>\n",
       "      <th>2</th>\n",
       "      <td>R&amp;B</td>\n",
       "      <td>1.0</td>\n",
       "      <td>3</td>\n",
       "      <td>Classic Rock</td>\n",
       "      <td>2.00</td>\n",
       "      <td>2.0</td>\n",
       "      <td>0.0</td>\n",
       "      <td>Pop</td>\n",
       "      <td>1.88</td>\n",
       "      <td>8.0</td>\n",
       "      <td>0.0</td>\n",
       "    </tr>\n",
       "    <tr>\n",
       "      <th>3</th>\n",
       "      <td>Adult Contemporary</td>\n",
       "      <td>1.0</td>\n",
       "      <td>1</td>\n",
       "      <td>R&amp;B</td>\n",
       "      <td>2.50</td>\n",
       "      <td>2.0</td>\n",
       "      <td>0.0</td>\n",
       "      <td>Classic Rock</td>\n",
       "      <td>2.33</td>\n",
       "      <td>3.0</td>\n",
       "      <td>0.0</td>\n",
       "    </tr>\n",
       "    <tr>\n",
       "      <th>4</th>\n",
       "      <td>Blues</td>\n",
       "      <td>1.0</td>\n",
       "      <td>1</td>\n",
       "      <td>Country</td>\n",
       "      <td>2.00</td>\n",
       "      <td>1.0</td>\n",
       "      <td>0.0</td>\n",
       "      <td>Jazz</td>\n",
       "      <td>1.00</td>\n",
       "      <td>3.0</td>\n",
       "      <td>0.0</td>\n",
       "    </tr>\n",
       "    <tr>\n",
       "      <th>5</th>\n",
       "      <td>Classic Rock</td>\n",
       "      <td>2.0</td>\n",
       "      <td>1</td>\n",
       "      <td>Mainstream Dance</td>\n",
       "      <td>2.00</td>\n",
       "      <td>1.0</td>\n",
       "      <td>0.0</td>\n",
       "      <td>Country</td>\n",
       "      <td>2.50</td>\n",
       "      <td>2.0</td>\n",
       "      <td>0.0</td>\n",
       "    </tr>\n",
       "    <tr>\n",
       "      <th>6</th>\n",
       "      <td>Comedy</td>\n",
       "      <td>4.0</td>\n",
       "      <td>1</td>\n",
       "      <td>NaN</td>\n",
       "      <td>NaN</td>\n",
       "      <td>NaN</td>\n",
       "      <td>NaN</td>\n",
       "      <td>Rap</td>\n",
       "      <td>2.00</td>\n",
       "      <td>2.0</td>\n",
       "      <td>0.0</td>\n",
       "    </tr>\n",
       "    <tr>\n",
       "      <th>7</th>\n",
       "      <td>Country</td>\n",
       "      <td>5.0</td>\n",
       "      <td>1</td>\n",
       "      <td>NaN</td>\n",
       "      <td>NaN</td>\n",
       "      <td>NaN</td>\n",
       "      <td>NaN</td>\n",
       "      <td>Classic R&amp;B</td>\n",
       "      <td>1.00</td>\n",
       "      <td>1.0</td>\n",
       "      <td>0.0</td>\n",
       "    </tr>\n",
       "    <tr>\n",
       "      <th>8</th>\n",
       "      <td>Folk</td>\n",
       "      <td>5.0</td>\n",
       "      <td>1</td>\n",
       "      <td>NaN</td>\n",
       "      <td>NaN</td>\n",
       "      <td>NaN</td>\n",
       "      <td>NaN</td>\n",
       "      <td>Comedy</td>\n",
       "      <td>2.00</td>\n",
       "      <td>1.0</td>\n",
       "      <td>0.0</td>\n",
       "    </tr>\n",
       "    <tr>\n",
       "      <th>9</th>\n",
       "      <td>Jazz</td>\n",
       "      <td>4.0</td>\n",
       "      <td>1</td>\n",
       "      <td>NaN</td>\n",
       "      <td>NaN</td>\n",
       "      <td>NaN</td>\n",
       "      <td>NaN</td>\n",
       "      <td>Electronic/Dance</td>\n",
       "      <td>2.00</td>\n",
       "      <td>1.0</td>\n",
       "      <td>0.0</td>\n",
       "    </tr>\n",
       "    <tr>\n",
       "      <th>10</th>\n",
       "      <td>Mainstream Dance</td>\n",
       "      <td>2.0</td>\n",
       "      <td>1</td>\n",
       "      <td>NaN</td>\n",
       "      <td>NaN</td>\n",
       "      <td>NaN</td>\n",
       "      <td>NaN</td>\n",
       "      <td>Metal</td>\n",
       "      <td>1.00</td>\n",
       "      <td>1.0</td>\n",
       "      <td>0.0</td>\n",
       "    </tr>\n",
       "    <tr>\n",
       "      <th>11</th>\n",
       "      <td>Metal</td>\n",
       "      <td>1.0</td>\n",
       "      <td>1</td>\n",
       "      <td>NaN</td>\n",
       "      <td>NaN</td>\n",
       "      <td>NaN</td>\n",
       "      <td>NaN</td>\n",
       "      <td>NaN</td>\n",
       "      <td>NaN</td>\n",
       "      <td>NaN</td>\n",
       "      <td>NaN</td>\n",
       "    </tr>\n",
       "    <tr>\n",
       "      <th>12</th>\n",
       "      <td>Rap</td>\n",
       "      <td>1.0</td>\n",
       "      <td>1</td>\n",
       "      <td>NaN</td>\n",
       "      <td>NaN</td>\n",
       "      <td>NaN</td>\n",
       "      <td>NaN</td>\n",
       "      <td>NaN</td>\n",
       "      <td>NaN</td>\n",
       "      <td>NaN</td>\n",
       "      <td>NaN</td>\n",
       "    </tr>\n",
       "  </tbody>\n",
       "</table>\n",
       "</div>"
      ],
      "text/plain": [
       "               User 15                        First neighbour: User 614  \\\n",
       "            Genre name Mean rating Song count                Genre name   \n",
       "0                 Rock         2.0         12                      Rock   \n",
       "1                  Pop         2.4          5                       Pop   \n",
       "2                  R&B         1.0          3              Classic Rock   \n",
       "3   Adult Contemporary         1.0          1                       R&B   \n",
       "4                Blues         1.0          1                   Country   \n",
       "5         Classic Rock         2.0          1          Mainstream Dance   \n",
       "6               Comedy         4.0          1                       NaN   \n",
       "7              Country         5.0          1                       NaN   \n",
       "8                 Folk         5.0          1                       NaN   \n",
       "9                 Jazz         4.0          1                       NaN   \n",
       "10    Mainstream Dance         2.0          1                       NaN   \n",
       "11               Metal         1.0          1                       NaN   \n",
       "12                 Rap         1.0          1                       NaN   \n",
       "\n",
       "                                       Second neighbour: User 571              \\\n",
       "   Mean rating Song count Songs shared                 Genre name Mean rating   \n",
       "0         2.33       12.0          0.0                       Rock        2.25   \n",
       "1         2.75        8.0          0.0                        R&B        1.64   \n",
       "2         2.00        2.0          0.0                        Pop        1.88   \n",
       "3         2.50        2.0          0.0               Classic Rock        2.33   \n",
       "4         2.00        1.0          0.0                       Jazz        1.00   \n",
       "5         2.00        1.0          0.0                    Country        2.50   \n",
       "6          NaN        NaN          NaN                        Rap        2.00   \n",
       "7          NaN        NaN          NaN                Classic R&B        1.00   \n",
       "8          NaN        NaN          NaN                     Comedy        2.00   \n",
       "9          NaN        NaN          NaN           Electronic/Dance        2.00   \n",
       "10         NaN        NaN          NaN                      Metal        1.00   \n",
       "11         NaN        NaN          NaN                        NaN         NaN   \n",
       "12         NaN        NaN          NaN                        NaN         NaN   \n",
       "\n",
       "                            \n",
       "   Song count Songs shared  \n",
       "0        16.0          2.0  \n",
       "1        11.0          0.0  \n",
       "2         8.0          0.0  \n",
       "3         3.0          0.0  \n",
       "4         3.0          0.0  \n",
       "5         2.0          0.0  \n",
       "6         2.0          0.0  \n",
       "7         1.0          0.0  \n",
       "8         1.0          0.0  \n",
       "9         1.0          0.0  \n",
       "10        1.0          0.0  \n",
       "11        NaN          NaN  \n",
       "12        NaN          NaN  "
      ]
     },
     "execution_count": 89,
     "metadata": {},
     "output_type": "execute_result"
    }
   ],
   "source": [
    "sim_users_comparison(15)"
   ]
  },
  {
   "cell_type": "markdown",
   "id": "3bb649f4",
   "metadata": {},
   "source": [
    "Now the euclidian distance will be used"
   ]
  },
  {
   "cell_type": "code",
   "execution_count": 91,
   "id": "5a428eb7",
   "metadata": {},
   "outputs": [],
   "source": [
    "similiar_users=similiar_users_eu"
   ]
  },
  {
   "cell_type": "code",
   "execution_count": 92,
   "id": "d929fe8a",
   "metadata": {},
   "outputs": [
    {
     "data": {
      "text/html": [
       "<div>\n",
       "<style scoped>\n",
       "    .dataframe tbody tr th:only-of-type {\n",
       "        vertical-align: middle;\n",
       "    }\n",
       "\n",
       "    .dataframe tbody tr th {\n",
       "        vertical-align: top;\n",
       "    }\n",
       "\n",
       "    .dataframe thead tr th {\n",
       "        text-align: left;\n",
       "    }\n",
       "</style>\n",
       "<table border=\"1\" class=\"dataframe\">\n",
       "  <thead>\n",
       "    <tr>\n",
       "      <th></th>\n",
       "      <th colspan=\"3\" halign=\"left\">User 0</th>\n",
       "      <th colspan=\"4\" halign=\"left\">First neighbour: User 668</th>\n",
       "      <th colspan=\"4\" halign=\"left\">Second neighbour: User 77</th>\n",
       "    </tr>\n",
       "    <tr>\n",
       "      <th></th>\n",
       "      <th>Genre name</th>\n",
       "      <th>Mean rating</th>\n",
       "      <th>Song count</th>\n",
       "      <th>Genre name</th>\n",
       "      <th>Mean rating</th>\n",
       "      <th>Song count</th>\n",
       "      <th>Songs shared</th>\n",
       "      <th>Genre name</th>\n",
       "      <th>Mean rating</th>\n",
       "      <th>Song count</th>\n",
       "      <th>Songs shared</th>\n",
       "    </tr>\n",
       "  </thead>\n",
       "  <tbody>\n",
       "    <tr>\n",
       "      <th>0</th>\n",
       "      <td>Rock</td>\n",
       "      <td>3.67</td>\n",
       "      <td>3.0</td>\n",
       "      <td>Rock</td>\n",
       "      <td>3.83</td>\n",
       "      <td>23</td>\n",
       "      <td>0.0</td>\n",
       "      <td>Rock</td>\n",
       "      <td>4.54</td>\n",
       "      <td>13.0</td>\n",
       "      <td>0.0</td>\n",
       "    </tr>\n",
       "    <tr>\n",
       "      <th>1</th>\n",
       "      <td>R&amp;B</td>\n",
       "      <td>5.00</td>\n",
       "      <td>2.0</td>\n",
       "      <td>R&amp;B</td>\n",
       "      <td>3.33</td>\n",
       "      <td>6</td>\n",
       "      <td>0.0</td>\n",
       "      <td>Pop</td>\n",
       "      <td>4.67</td>\n",
       "      <td>9.0</td>\n",
       "      <td>0.0</td>\n",
       "    </tr>\n",
       "    <tr>\n",
       "      <th>2</th>\n",
       "      <td>Latin</td>\n",
       "      <td>4.00</td>\n",
       "      <td>1.0</td>\n",
       "      <td>Pop</td>\n",
       "      <td>3.20</td>\n",
       "      <td>5</td>\n",
       "      <td>0.0</td>\n",
       "      <td>R&amp;B</td>\n",
       "      <td>4.71</td>\n",
       "      <td>7.0</td>\n",
       "      <td>0.0</td>\n",
       "    </tr>\n",
       "    <tr>\n",
       "      <th>3</th>\n",
       "      <td>Mainstream Dance</td>\n",
       "      <td>5.00</td>\n",
       "      <td>1.0</td>\n",
       "      <td>Folk</td>\n",
       "      <td>3.00</td>\n",
       "      <td>3</td>\n",
       "      <td>0.0</td>\n",
       "      <td>Country</td>\n",
       "      <td>4.67</td>\n",
       "      <td>3.0</td>\n",
       "      <td>0.0</td>\n",
       "    </tr>\n",
       "    <tr>\n",
       "      <th>4</th>\n",
       "      <td>NaN</td>\n",
       "      <td>NaN</td>\n",
       "      <td>NaN</td>\n",
       "      <td>Christmas</td>\n",
       "      <td>2.50</td>\n",
       "      <td>2</td>\n",
       "      <td>NaN</td>\n",
       "      <td>Rap</td>\n",
       "      <td>5.00</td>\n",
       "      <td>2.0</td>\n",
       "      <td>NaN</td>\n",
       "    </tr>\n",
       "    <tr>\n",
       "      <th>5</th>\n",
       "      <td>NaN</td>\n",
       "      <td>NaN</td>\n",
       "      <td>NaN</td>\n",
       "      <td>Classic R&amp;B</td>\n",
       "      <td>4.00</td>\n",
       "      <td>2</td>\n",
       "      <td>NaN</td>\n",
       "      <td>Classic Rock</td>\n",
       "      <td>5.00</td>\n",
       "      <td>1.0</td>\n",
       "      <td>NaN</td>\n",
       "    </tr>\n",
       "    <tr>\n",
       "      <th>6</th>\n",
       "      <td>NaN</td>\n",
       "      <td>NaN</td>\n",
       "      <td>NaN</td>\n",
       "      <td>Comedy</td>\n",
       "      <td>4.50</td>\n",
       "      <td>2</td>\n",
       "      <td>NaN</td>\n",
       "      <td>Folk</td>\n",
       "      <td>5.00</td>\n",
       "      <td>1.0</td>\n",
       "      <td>NaN</td>\n",
       "    </tr>\n",
       "    <tr>\n",
       "      <th>7</th>\n",
       "      <td>NaN</td>\n",
       "      <td>NaN</td>\n",
       "      <td>NaN</td>\n",
       "      <td>Country</td>\n",
       "      <td>4.00</td>\n",
       "      <td>2</td>\n",
       "      <td>NaN</td>\n",
       "      <td>Jazz</td>\n",
       "      <td>5.00</td>\n",
       "      <td>1.0</td>\n",
       "      <td>NaN</td>\n",
       "    </tr>\n",
       "    <tr>\n",
       "      <th>8</th>\n",
       "      <td>NaN</td>\n",
       "      <td>NaN</td>\n",
       "      <td>NaN</td>\n",
       "      <td>Rap</td>\n",
       "      <td>3.50</td>\n",
       "      <td>2</td>\n",
       "      <td>NaN</td>\n",
       "      <td>Latin</td>\n",
       "      <td>5.00</td>\n",
       "      <td>1.0</td>\n",
       "      <td>NaN</td>\n",
       "    </tr>\n",
       "    <tr>\n",
       "      <th>13</th>\n",
       "      <td>NaN</td>\n",
       "      <td>NaN</td>\n",
       "      <td>NaN</td>\n",
       "      <td>Latin</td>\n",
       "      <td>3.00</td>\n",
       "      <td>1</td>\n",
       "      <td>NaN</td>\n",
       "      <td>NaN</td>\n",
       "      <td>NaN</td>\n",
       "      <td>NaN</td>\n",
       "      <td>NaN</td>\n",
       "    </tr>\n",
       "    <tr>\n",
       "      <th>16</th>\n",
       "      <td>NaN</td>\n",
       "      <td>NaN</td>\n",
       "      <td>NaN</td>\n",
       "      <td>Classic Rock</td>\n",
       "      <td>4.00</td>\n",
       "      <td>1</td>\n",
       "      <td>NaN</td>\n",
       "      <td>NaN</td>\n",
       "      <td>NaN</td>\n",
       "      <td>NaN</td>\n",
       "      <td>NaN</td>\n",
       "    </tr>\n",
       "    <tr>\n",
       "      <th>15</th>\n",
       "      <td>NaN</td>\n",
       "      <td>NaN</td>\n",
       "      <td>NaN</td>\n",
       "      <td>Easy Listening</td>\n",
       "      <td>4.00</td>\n",
       "      <td>1</td>\n",
       "      <td>NaN</td>\n",
       "      <td>NaN</td>\n",
       "      <td>NaN</td>\n",
       "      <td>NaN</td>\n",
       "      <td>NaN</td>\n",
       "    </tr>\n",
       "    <tr>\n",
       "      <th>14</th>\n",
       "      <td>NaN</td>\n",
       "      <td>NaN</td>\n",
       "      <td>NaN</td>\n",
       "      <td>Adult Contemporary</td>\n",
       "      <td>4.00</td>\n",
       "      <td>1</td>\n",
       "      <td>NaN</td>\n",
       "      <td>NaN</td>\n",
       "      <td>NaN</td>\n",
       "      <td>NaN</td>\n",
       "      <td>NaN</td>\n",
       "    </tr>\n",
       "    <tr>\n",
       "      <th>9</th>\n",
       "      <td>NaN</td>\n",
       "      <td>NaN</td>\n",
       "      <td>NaN</td>\n",
       "      <td>Adult Alternative</td>\n",
       "      <td>4.00</td>\n",
       "      <td>1</td>\n",
       "      <td>NaN</td>\n",
       "      <td>Mainstream Dance</td>\n",
       "      <td>3.00</td>\n",
       "      <td>1.0</td>\n",
       "      <td>NaN</td>\n",
       "    </tr>\n",
       "    <tr>\n",
       "      <th>12</th>\n",
       "      <td>NaN</td>\n",
       "      <td>NaN</td>\n",
       "      <td>NaN</td>\n",
       "      <td>Mainstream Dance</td>\n",
       "      <td>4.00</td>\n",
       "      <td>1</td>\n",
       "      <td>NaN</td>\n",
       "      <td>NaN</td>\n",
       "      <td>NaN</td>\n",
       "      <td>NaN</td>\n",
       "      <td>NaN</td>\n",
       "    </tr>\n",
       "    <tr>\n",
       "      <th>11</th>\n",
       "      <td>NaN</td>\n",
       "      <td>NaN</td>\n",
       "      <td>NaN</td>\n",
       "      <td>Jazz</td>\n",
       "      <td>4.00</td>\n",
       "      <td>1</td>\n",
       "      <td>NaN</td>\n",
       "      <td>NaN</td>\n",
       "      <td>NaN</td>\n",
       "      <td>NaN</td>\n",
       "      <td>NaN</td>\n",
       "    </tr>\n",
       "    <tr>\n",
       "      <th>10</th>\n",
       "      <td>NaN</td>\n",
       "      <td>NaN</td>\n",
       "      <td>NaN</td>\n",
       "      <td>Metal</td>\n",
       "      <td>4.00</td>\n",
       "      <td>1</td>\n",
       "      <td>NaN</td>\n",
       "      <td>Reggae</td>\n",
       "      <td>5.00</td>\n",
       "      <td>1.0</td>\n",
       "      <td>NaN</td>\n",
       "    </tr>\n",
       "    <tr>\n",
       "      <th>17</th>\n",
       "      <td>NaN</td>\n",
       "      <td>NaN</td>\n",
       "      <td>NaN</td>\n",
       "      <td>Soft Pop</td>\n",
       "      <td>4.00</td>\n",
       "      <td>1</td>\n",
       "      <td>NaN</td>\n",
       "      <td>NaN</td>\n",
       "      <td>NaN</td>\n",
       "      <td>NaN</td>\n",
       "      <td>NaN</td>\n",
       "    </tr>\n",
       "  </tbody>\n",
       "</table>\n",
       "</div>"
      ],
      "text/plain": [
       "              User 0                        First neighbour: User 668  \\\n",
       "          Genre name Mean rating Song count                Genre name   \n",
       "0               Rock        3.67        3.0                      Rock   \n",
       "1                R&B        5.00        2.0                       R&B   \n",
       "2              Latin        4.00        1.0                       Pop   \n",
       "3   Mainstream Dance        5.00        1.0                      Folk   \n",
       "4                NaN         NaN        NaN                 Christmas   \n",
       "5                NaN         NaN        NaN               Classic R&B   \n",
       "6                NaN         NaN        NaN                    Comedy   \n",
       "7                NaN         NaN        NaN                   Country   \n",
       "8                NaN         NaN        NaN                       Rap   \n",
       "13               NaN         NaN        NaN                     Latin   \n",
       "16               NaN         NaN        NaN              Classic Rock   \n",
       "15               NaN         NaN        NaN            Easy Listening   \n",
       "14               NaN         NaN        NaN        Adult Contemporary   \n",
       "9                NaN         NaN        NaN         Adult Alternative   \n",
       "12               NaN         NaN        NaN          Mainstream Dance   \n",
       "11               NaN         NaN        NaN                      Jazz   \n",
       "10               NaN         NaN        NaN                     Metal   \n",
       "17               NaN         NaN        NaN                  Soft Pop   \n",
       "\n",
       "                                       Second neighbour: User 77              \\\n",
       "   Mean rating Song count Songs shared                Genre name Mean rating   \n",
       "0         3.83         23          0.0                      Rock        4.54   \n",
       "1         3.33          6          0.0                       Pop        4.67   \n",
       "2         3.20          5          0.0                       R&B        4.71   \n",
       "3         3.00          3          0.0                   Country        4.67   \n",
       "4         2.50          2          NaN                       Rap        5.00   \n",
       "5         4.00          2          NaN              Classic Rock        5.00   \n",
       "6         4.50          2          NaN                      Folk        5.00   \n",
       "7         4.00          2          NaN                      Jazz        5.00   \n",
       "8         3.50          2          NaN                     Latin        5.00   \n",
       "13        3.00          1          NaN                       NaN         NaN   \n",
       "16        4.00          1          NaN                       NaN         NaN   \n",
       "15        4.00          1          NaN                       NaN         NaN   \n",
       "14        4.00          1          NaN                       NaN         NaN   \n",
       "9         4.00          1          NaN          Mainstream Dance        3.00   \n",
       "12        4.00          1          NaN                       NaN         NaN   \n",
       "11        4.00          1          NaN                       NaN         NaN   \n",
       "10        4.00          1          NaN                    Reggae        5.00   \n",
       "17        4.00          1          NaN                       NaN         NaN   \n",
       "\n",
       "                            \n",
       "   Song count Songs shared  \n",
       "0        13.0          0.0  \n",
       "1         9.0          0.0  \n",
       "2         7.0          0.0  \n",
       "3         3.0          0.0  \n",
       "4         2.0          NaN  \n",
       "5         1.0          NaN  \n",
       "6         1.0          NaN  \n",
       "7         1.0          NaN  \n",
       "8         1.0          NaN  \n",
       "13        NaN          NaN  \n",
       "16        NaN          NaN  \n",
       "15        NaN          NaN  \n",
       "14        NaN          NaN  \n",
       "9         1.0          NaN  \n",
       "12        NaN          NaN  \n",
       "11        NaN          NaN  \n",
       "10        1.0          NaN  \n",
       "17        NaN          NaN  "
      ]
     },
     "execution_count": 92,
     "metadata": {},
     "output_type": "execute_result"
    }
   ],
   "source": [
    "sim_users_comparison(0)"
   ]
  },
  {
   "cell_type": "code",
   "execution_count": 93,
   "id": "5b146685",
   "metadata": {},
   "outputs": [
    {
     "data": {
      "text/html": [
       "<div>\n",
       "<style scoped>\n",
       "    .dataframe tbody tr th:only-of-type {\n",
       "        vertical-align: middle;\n",
       "    }\n",
       "\n",
       "    .dataframe tbody tr th {\n",
       "        vertical-align: top;\n",
       "    }\n",
       "\n",
       "    .dataframe thead tr th {\n",
       "        text-align: left;\n",
       "    }\n",
       "</style>\n",
       "<table border=\"1\" class=\"dataframe\">\n",
       "  <thead>\n",
       "    <tr>\n",
       "      <th></th>\n",
       "      <th colspan=\"3\" halign=\"left\">User 15</th>\n",
       "      <th colspan=\"4\" halign=\"left\">First neighbour: User 614</th>\n",
       "      <th colspan=\"4\" halign=\"left\">Second neighbour: User 268</th>\n",
       "    </tr>\n",
       "    <tr>\n",
       "      <th></th>\n",
       "      <th>Genre name</th>\n",
       "      <th>Mean rating</th>\n",
       "      <th>Song count</th>\n",
       "      <th>Genre name</th>\n",
       "      <th>Mean rating</th>\n",
       "      <th>Song count</th>\n",
       "      <th>Songs shared</th>\n",
       "      <th>Genre name</th>\n",
       "      <th>Mean rating</th>\n",
       "      <th>Song count</th>\n",
       "      <th>Songs shared</th>\n",
       "    </tr>\n",
       "  </thead>\n",
       "  <tbody>\n",
       "    <tr>\n",
       "      <th>0</th>\n",
       "      <td>Rock</td>\n",
       "      <td>2.0</td>\n",
       "      <td>12</td>\n",
       "      <td>Rock</td>\n",
       "      <td>2.33</td>\n",
       "      <td>12.0</td>\n",
       "      <td>0.0</td>\n",
       "      <td>Rock</td>\n",
       "      <td>5.0</td>\n",
       "      <td>3.0</td>\n",
       "      <td>0.0</td>\n",
       "    </tr>\n",
       "    <tr>\n",
       "      <th>1</th>\n",
       "      <td>Pop</td>\n",
       "      <td>2.4</td>\n",
       "      <td>5</td>\n",
       "      <td>Pop</td>\n",
       "      <td>2.75</td>\n",
       "      <td>8.0</td>\n",
       "      <td>0.0</td>\n",
       "      <td>R&amp;B</td>\n",
       "      <td>5.0</td>\n",
       "      <td>2.0</td>\n",
       "      <td>0.0</td>\n",
       "    </tr>\n",
       "    <tr>\n",
       "      <th>2</th>\n",
       "      <td>R&amp;B</td>\n",
       "      <td>1.0</td>\n",
       "      <td>3</td>\n",
       "      <td>Classic Rock</td>\n",
       "      <td>2.00</td>\n",
       "      <td>2.0</td>\n",
       "      <td>0.0</td>\n",
       "      <td>Ambient</td>\n",
       "      <td>5.0</td>\n",
       "      <td>1.0</td>\n",
       "      <td>0.0</td>\n",
       "    </tr>\n",
       "    <tr>\n",
       "      <th>3</th>\n",
       "      <td>Adult Contemporary</td>\n",
       "      <td>1.0</td>\n",
       "      <td>1</td>\n",
       "      <td>R&amp;B</td>\n",
       "      <td>2.50</td>\n",
       "      <td>2.0</td>\n",
       "      <td>0.0</td>\n",
       "      <td>Country</td>\n",
       "      <td>5.0</td>\n",
       "      <td>1.0</td>\n",
       "      <td>0.0</td>\n",
       "    </tr>\n",
       "    <tr>\n",
       "      <th>4</th>\n",
       "      <td>Blues</td>\n",
       "      <td>1.0</td>\n",
       "      <td>1</td>\n",
       "      <td>Country</td>\n",
       "      <td>2.00</td>\n",
       "      <td>1.0</td>\n",
       "      <td>0.0</td>\n",
       "      <td>Indie Rock</td>\n",
       "      <td>5.0</td>\n",
       "      <td>1.0</td>\n",
       "      <td>0.0</td>\n",
       "    </tr>\n",
       "    <tr>\n",
       "      <th>5</th>\n",
       "      <td>Classic Rock</td>\n",
       "      <td>2.0</td>\n",
       "      <td>1</td>\n",
       "      <td>Mainstream Dance</td>\n",
       "      <td>2.00</td>\n",
       "      <td>1.0</td>\n",
       "      <td>0.0</td>\n",
       "      <td>NaN</td>\n",
       "      <td>NaN</td>\n",
       "      <td>NaN</td>\n",
       "      <td>NaN</td>\n",
       "    </tr>\n",
       "    <tr>\n",
       "      <th>6</th>\n",
       "      <td>Comedy</td>\n",
       "      <td>4.0</td>\n",
       "      <td>1</td>\n",
       "      <td>NaN</td>\n",
       "      <td>NaN</td>\n",
       "      <td>NaN</td>\n",
       "      <td>NaN</td>\n",
       "      <td>NaN</td>\n",
       "      <td>NaN</td>\n",
       "      <td>NaN</td>\n",
       "      <td>NaN</td>\n",
       "    </tr>\n",
       "    <tr>\n",
       "      <th>7</th>\n",
       "      <td>Country</td>\n",
       "      <td>5.0</td>\n",
       "      <td>1</td>\n",
       "      <td>NaN</td>\n",
       "      <td>NaN</td>\n",
       "      <td>NaN</td>\n",
       "      <td>NaN</td>\n",
       "      <td>NaN</td>\n",
       "      <td>NaN</td>\n",
       "      <td>NaN</td>\n",
       "      <td>NaN</td>\n",
       "    </tr>\n",
       "    <tr>\n",
       "      <th>8</th>\n",
       "      <td>Folk</td>\n",
       "      <td>5.0</td>\n",
       "      <td>1</td>\n",
       "      <td>NaN</td>\n",
       "      <td>NaN</td>\n",
       "      <td>NaN</td>\n",
       "      <td>NaN</td>\n",
       "      <td>NaN</td>\n",
       "      <td>NaN</td>\n",
       "      <td>NaN</td>\n",
       "      <td>NaN</td>\n",
       "    </tr>\n",
       "    <tr>\n",
       "      <th>9</th>\n",
       "      <td>Jazz</td>\n",
       "      <td>4.0</td>\n",
       "      <td>1</td>\n",
       "      <td>NaN</td>\n",
       "      <td>NaN</td>\n",
       "      <td>NaN</td>\n",
       "      <td>NaN</td>\n",
       "      <td>NaN</td>\n",
       "      <td>NaN</td>\n",
       "      <td>NaN</td>\n",
       "      <td>NaN</td>\n",
       "    </tr>\n",
       "    <tr>\n",
       "      <th>10</th>\n",
       "      <td>Mainstream Dance</td>\n",
       "      <td>2.0</td>\n",
       "      <td>1</td>\n",
       "      <td>NaN</td>\n",
       "      <td>NaN</td>\n",
       "      <td>NaN</td>\n",
       "      <td>NaN</td>\n",
       "      <td>NaN</td>\n",
       "      <td>NaN</td>\n",
       "      <td>NaN</td>\n",
       "      <td>NaN</td>\n",
       "    </tr>\n",
       "    <tr>\n",
       "      <th>11</th>\n",
       "      <td>Metal</td>\n",
       "      <td>1.0</td>\n",
       "      <td>1</td>\n",
       "      <td>NaN</td>\n",
       "      <td>NaN</td>\n",
       "      <td>NaN</td>\n",
       "      <td>NaN</td>\n",
       "      <td>NaN</td>\n",
       "      <td>NaN</td>\n",
       "      <td>NaN</td>\n",
       "      <td>NaN</td>\n",
       "    </tr>\n",
       "    <tr>\n",
       "      <th>12</th>\n",
       "      <td>Rap</td>\n",
       "      <td>1.0</td>\n",
       "      <td>1</td>\n",
       "      <td>NaN</td>\n",
       "      <td>NaN</td>\n",
       "      <td>NaN</td>\n",
       "      <td>NaN</td>\n",
       "      <td>NaN</td>\n",
       "      <td>NaN</td>\n",
       "      <td>NaN</td>\n",
       "      <td>NaN</td>\n",
       "    </tr>\n",
       "  </tbody>\n",
       "</table>\n",
       "</div>"
      ],
      "text/plain": [
       "               User 15                        First neighbour: User 614  \\\n",
       "            Genre name Mean rating Song count                Genre name   \n",
       "0                 Rock         2.0         12                      Rock   \n",
       "1                  Pop         2.4          5                       Pop   \n",
       "2                  R&B         1.0          3              Classic Rock   \n",
       "3   Adult Contemporary         1.0          1                       R&B   \n",
       "4                Blues         1.0          1                   Country   \n",
       "5         Classic Rock         2.0          1          Mainstream Dance   \n",
       "6               Comedy         4.0          1                       NaN   \n",
       "7              Country         5.0          1                       NaN   \n",
       "8                 Folk         5.0          1                       NaN   \n",
       "9                 Jazz         4.0          1                       NaN   \n",
       "10    Mainstream Dance         2.0          1                       NaN   \n",
       "11               Metal         1.0          1                       NaN   \n",
       "12                 Rap         1.0          1                       NaN   \n",
       "\n",
       "                                       Second neighbour: User 268              \\\n",
       "   Mean rating Song count Songs shared                 Genre name Mean rating   \n",
       "0         2.33       12.0          0.0                       Rock         5.0   \n",
       "1         2.75        8.0          0.0                        R&B         5.0   \n",
       "2         2.00        2.0          0.0                    Ambient         5.0   \n",
       "3         2.50        2.0          0.0                    Country         5.0   \n",
       "4         2.00        1.0          0.0                 Indie Rock         5.0   \n",
       "5         2.00        1.0          0.0                        NaN         NaN   \n",
       "6          NaN        NaN          NaN                        NaN         NaN   \n",
       "7          NaN        NaN          NaN                        NaN         NaN   \n",
       "8          NaN        NaN          NaN                        NaN         NaN   \n",
       "9          NaN        NaN          NaN                        NaN         NaN   \n",
       "10         NaN        NaN          NaN                        NaN         NaN   \n",
       "11         NaN        NaN          NaN                        NaN         NaN   \n",
       "12         NaN        NaN          NaN                        NaN         NaN   \n",
       "\n",
       "                            \n",
       "   Song count Songs shared  \n",
       "0         3.0          0.0  \n",
       "1         2.0          0.0  \n",
       "2         1.0          0.0  \n",
       "3         1.0          0.0  \n",
       "4         1.0          0.0  \n",
       "5         NaN          NaN  \n",
       "6         NaN          NaN  \n",
       "7         NaN          NaN  \n",
       "8         NaN          NaN  \n",
       "9         NaN          NaN  \n",
       "10        NaN          NaN  \n",
       "11        NaN          NaN  \n",
       "12        NaN          NaN  "
      ]
     },
     "execution_count": 93,
     "metadata": {},
     "output_type": "execute_result"
    }
   ],
   "source": [
    "sim_users_comparison(15)"
   ]
  },
  {
   "cell_type": "markdown",
   "id": "3c9569f8",
   "metadata": {},
   "source": [
    "The imbalance concerning the amount of genre instances in the dataset makes the results here less interesting. There are also some users rating songs f.e. only very high or very low, which makes it harder for the model to discern the factors concerning song genres.\n",
    "<br>It's problematic to make any assumptions based on above presented data, but it could be said that song genres might have been vaguely decoded by the model."
   ]
  },
  {
   "cell_type": "markdown",
   "id": "ca75906f",
   "metadata": {},
   "source": [
    "#### 2. Comparing similiar users (SVD) and neighbours (kNN Baseline)"
   ]
  },
  {
   "cell_type": "code",
   "execution_count": 75,
   "id": "fbc81461",
   "metadata": {},
   "outputs": [
    {
     "name": "stdout",
     "output_type": "stream",
     "text": [
      "Neighbours for user 0 \n",
      " kNN: [144, 375, 286, 292, 132] \n",
      " SVD (cosine): [206, 70, 197, 232, 77] \n",
      " SVD (euclidian): [668, 77, 263, 734, 147]\n",
      "\n",
      "Neighbours for user 1 \n",
      " kNN: [128, 88, 204, 424, 51] \n",
      " SVD (cosine): [79, 324, 519, 450, 122] \n",
      " SVD (euclidian): [324, 519, 79, 238, 668]\n",
      "\n",
      "Neighbours for user 2 \n",
      " kNN: [36, 20, 63, 128, 115] \n",
      " SVD (cosine): [383, 531, 723, 539, 593] \n",
      " SVD (euclidian): [43, 741, 489, 485, 226]\n",
      "\n"
     ]
    }
   ],
   "source": [
    "for i in range(3):\n",
    "    print('Neighbours for user',i,\n",
    "          '\\n kNN:', knn.get_neighbors(i,5),\n",
    "          '\\n SVD (cosine):',similiar_users_cos[i],\n",
    "          '\\n SVD (euclidian):', similiar_users_eu[i])\n",
    "    print()"
   ]
  },
  {
   "cell_type": "markdown",
   "id": "f1c4c7b4",
   "metadata": {},
   "source": [
    "## VI. Music genres graphs"
   ]
  },
  {
   "cell_type": "code",
   "execution_count": 76,
   "id": "ec1c004a",
   "metadata": {},
   "outputs": [],
   "source": [
    "def edges(genre_id,parent_id,level):\n",
    "    edges=[]\n",
    "    colors=[]\n",
    "    for i in range(len(genre_id)):\n",
    "        if level[i]>1:\n",
    "            edges.append((parent_id[i],genre_id[i]))\n",
    "            if level[i]==2:\n",
    "                colors.append('#f2ae72')\n",
    "            elif level[i]==3:\n",
    "                colors.append('#f2e394')\n",
    "        else: colors.append('#d96459')  \n",
    "    return edges, colors"
   ]
  },
  {
   "cell_type": "code",
   "execution_count": 77,
   "id": "9c81b0fe",
   "metadata": {},
   "outputs": [
    {
     "data": {
      "text/html": [
       "\n",
       "        <iframe\n",
       "            width=\"1000px\"\n",
       "            height=\"750px\"\n",
       "            src=\"genre-graph.html\"\n",
       "            frameborder=\"0\"\n",
       "            allowfullscreen\n",
       "            \n",
       "        ></iframe>\n",
       "        "
      ],
      "text/plain": [
       "<IPython.lib.display.IFrame at 0x7fe90e9e7160>"
      ]
     },
     "execution_count": 77,
     "metadata": {},
     "output_type": "execute_result"
    }
   ],
   "source": [
    "node_colors=edges(list(data_genres.index),list(data_genres['parent_genre_id']),list(data_genres['level']))[1]\n",
    "edges=edges(list(data_genres.index),list(data_genres['parent_genre_id']),list(data_genres['level']))[0]\n",
    "\n",
    "net = Network(notebook=True,height='750px',width='1000px')\n",
    "\n",
    "net.add_nodes(list(data_genres.index),\n",
    "             label=list(data_genres['genre_name']),\n",
    "             color=node_colors)\n",
    "\n",
    "net.add_edges(edges)\n",
    "\n",
    "net.show('genre-graph.html')"
   ]
  },
  {
   "cell_type": "code",
   "execution_count": null,
   "id": "569ce3c1",
   "metadata": {},
   "outputs": [],
   "source": []
  }
 ],
 "metadata": {
  "kernelspec": {
   "display_name": "Python 3 (ipykernel)",
   "language": "python",
   "name": "python3"
  },
  "language_info": {
   "codemirror_mode": {
    "name": "ipython",
    "version": 3
   },
   "file_extension": ".py",
   "mimetype": "text/x-python",
   "name": "python",
   "nbconvert_exporter": "python",
   "pygments_lexer": "ipython3",
   "version": "3.9.12"
  }
 },
 "nbformat": 4,
 "nbformat_minor": 5
}
